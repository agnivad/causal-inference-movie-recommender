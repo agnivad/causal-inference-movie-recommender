{
 "cells": [
  {
   "cell_type": "code",
   "execution_count": 1,
   "metadata": {},
   "outputs": [],
   "source": [
    "import pandas as pd\n",
    "import numpy as np\n",
    "from tqdm import tqdm\n",
    "from sklearn.model_selection import train_test_split"
   ]
  },
  {
   "cell_type": "markdown",
   "metadata": {},
   "source": [
    "## Remove timestamp from the data and save original data as csv "
   ]
  },
  {
   "cell_type": "markdown",
   "metadata": {},
   "source": [
    "### convert movielens 100k u.dat (rating data) to csv"
   ]
  },
  {
   "cell_type": "code",
   "execution_count": null,
   "metadata": {},
   "outputs": [],
   "source": [
    "data_100k = pd.read_csv('data/ml-100k/u.data', sep=\"\\t\", header=None)"
   ]
  },
  {
   "cell_type": "code",
   "execution_count": null,
   "metadata": {},
   "outputs": [],
   "source": [
    "data_100k.columns = ['user_id', 'movie_id', 'rating', \"time_stamp\"]"
   ]
  },
  {
   "cell_type": "code",
   "execution_count": null,
   "metadata": {},
   "outputs": [],
   "source": [
    "data_100k = data_100k.drop('time_stamp', axis=1)"
   ]
  },
  {
   "cell_type": "code",
   "execution_count": null,
   "metadata": {},
   "outputs": [],
   "source": [
    "data_100k.head()"
   ]
  },
  {
   "cell_type": "code",
   "execution_count": null,
   "metadata": {},
   "outputs": [],
   "source": [
    "# Uncomment only when need to write user data to csv\n",
    "\n",
    "#data_100k.to_csv(\"data/user_data/ml_100k_user_data.csv\", index=False)"
   ]
  },
  {
   "cell_type": "markdown",
   "metadata": {},
   "source": [
    "### movielens 1m data ratings.dat (rating data) to csv"
   ]
  },
  {
   "cell_type": "code",
   "execution_count": null,
   "metadata": {},
   "outputs": [],
   "source": [
    "data_1m = pd.read_csv('data/ml-1m/ratings.dat', sep=\"::\", header=None)"
   ]
  },
  {
   "cell_type": "code",
   "execution_count": null,
   "metadata": {},
   "outputs": [],
   "source": [
    "data_1m.columns = ['user_id', 'movie_id', 'rating', \"time_stamp\"]"
   ]
  },
  {
   "cell_type": "code",
   "execution_count": null,
   "metadata": {},
   "outputs": [],
   "source": [
    "data_1m = data_1m.drop('time_stamp', axis=1)"
   ]
  },
  {
   "cell_type": "code",
   "execution_count": null,
   "metadata": {},
   "outputs": [],
   "source": [
    "data_1m.head()"
   ]
  },
  {
   "cell_type": "code",
   "execution_count": null,
   "metadata": {},
   "outputs": [],
   "source": [
    "# Uncomment only when need to write user data to csv\n",
    "\n",
    "#data_1m.to_csv(\"data/user_data/ml_1m_user_data.csv\", index=False)"
   ]
  },
  {
   "cell_type": "markdown",
   "metadata": {},
   "source": [
    "## Helper function to skrink the dataframe size by converting the datatypes of the columns"
   ]
  },
  {
   "cell_type": "code",
   "execution_count": 2,
   "metadata": {},
   "outputs": [],
   "source": [
    "def shrink_df(df):\n",
    "    df.user_id = df.user_id.astype(np.uint16)\n",
    "    df.movie_id = df.movie_id.astype(np.uint16)\n",
    "    df.rating = df.rating.astype(np.uint8)\n",
    "    \n",
    "    return df"
   ]
  },
  {
   "cell_type": "markdown",
   "metadata": {},
   "source": [
    "# 100k data -- 100% data -- exposure model"
   ]
  },
  {
   "cell_type": "code",
   "execution_count": 17,
   "metadata": {},
   "outputs": [],
   "source": [
    "data_100k = pd.read_csv('data/user_data/ml_100k_user_data.csv')"
   ]
  },
  {
   "cell_type": "markdown",
   "metadata": {},
   "source": [
    "### Converting 100k user data to one hot encoding for exposure model"
   ]
  },
  {
   "cell_type": "code",
   "execution_count": 18,
   "metadata": {},
   "outputs": [],
   "source": [
    "# create one hot encoding using movie id\n",
    "\n",
    "one_hot = pd.get_dummies(data_100k.movie_id, prefix=\"movie_id\", dtype=np.uint8)"
   ]
  },
  {
   "cell_type": "code",
   "execution_count": 19,
   "metadata": {},
   "outputs": [],
   "source": [
    "one_hot['user_id'] = data_100k.user_id"
   ]
  },
  {
   "cell_type": "code",
   "execution_count": 37,
   "metadata": {},
   "outputs": [],
   "source": [
    "# clearing dataframe from memory which won't be required further for faster execution of below blocks\n",
    "\n",
    "del data_100k"
   ]
  },
  {
   "cell_type": "code",
   "execution_count": 20,
   "metadata": {},
   "outputs": [
    {
     "data": {
      "text/html": [
       "<div>\n",
       "<style scoped>\n",
       "    .dataframe tbody tr th:only-of-type {\n",
       "        vertical-align: middle;\n",
       "    }\n",
       "\n",
       "    .dataframe tbody tr th {\n",
       "        vertical-align: top;\n",
       "    }\n",
       "\n",
       "    .dataframe thead th {\n",
       "        text-align: right;\n",
       "    }\n",
       "</style>\n",
       "<table border=\"1\" class=\"dataframe\">\n",
       "  <thead>\n",
       "    <tr style=\"text-align: right;\">\n",
       "      <th></th>\n",
       "      <th>user_id</th>\n",
       "      <th>movie_id_1</th>\n",
       "      <th>movie_id_2</th>\n",
       "      <th>movie_id_3</th>\n",
       "      <th>movie_id_4</th>\n",
       "      <th>movie_id_5</th>\n",
       "      <th>movie_id_6</th>\n",
       "      <th>movie_id_7</th>\n",
       "      <th>movie_id_8</th>\n",
       "      <th>movie_id_9</th>\n",
       "      <th>...</th>\n",
       "      <th>movie_id_1673</th>\n",
       "      <th>movie_id_1674</th>\n",
       "      <th>movie_id_1675</th>\n",
       "      <th>movie_id_1676</th>\n",
       "      <th>movie_id_1677</th>\n",
       "      <th>movie_id_1678</th>\n",
       "      <th>movie_id_1679</th>\n",
       "      <th>movie_id_1680</th>\n",
       "      <th>movie_id_1681</th>\n",
       "      <th>movie_id_1682</th>\n",
       "    </tr>\n",
       "  </thead>\n",
       "  <tbody>\n",
       "    <tr>\n",
       "      <td>0</td>\n",
       "      <td>196</td>\n",
       "      <td>0</td>\n",
       "      <td>0</td>\n",
       "      <td>0</td>\n",
       "      <td>0</td>\n",
       "      <td>0</td>\n",
       "      <td>0</td>\n",
       "      <td>0</td>\n",
       "      <td>0</td>\n",
       "      <td>0</td>\n",
       "      <td>...</td>\n",
       "      <td>0</td>\n",
       "      <td>0</td>\n",
       "      <td>0</td>\n",
       "      <td>0</td>\n",
       "      <td>0</td>\n",
       "      <td>0</td>\n",
       "      <td>0</td>\n",
       "      <td>0</td>\n",
       "      <td>0</td>\n",
       "      <td>0</td>\n",
       "    </tr>\n",
       "    <tr>\n",
       "      <td>1</td>\n",
       "      <td>186</td>\n",
       "      <td>0</td>\n",
       "      <td>0</td>\n",
       "      <td>0</td>\n",
       "      <td>0</td>\n",
       "      <td>0</td>\n",
       "      <td>0</td>\n",
       "      <td>0</td>\n",
       "      <td>0</td>\n",
       "      <td>0</td>\n",
       "      <td>...</td>\n",
       "      <td>0</td>\n",
       "      <td>0</td>\n",
       "      <td>0</td>\n",
       "      <td>0</td>\n",
       "      <td>0</td>\n",
       "      <td>0</td>\n",
       "      <td>0</td>\n",
       "      <td>0</td>\n",
       "      <td>0</td>\n",
       "      <td>0</td>\n",
       "    </tr>\n",
       "    <tr>\n",
       "      <td>2</td>\n",
       "      <td>22</td>\n",
       "      <td>0</td>\n",
       "      <td>0</td>\n",
       "      <td>0</td>\n",
       "      <td>0</td>\n",
       "      <td>0</td>\n",
       "      <td>0</td>\n",
       "      <td>0</td>\n",
       "      <td>0</td>\n",
       "      <td>0</td>\n",
       "      <td>...</td>\n",
       "      <td>0</td>\n",
       "      <td>0</td>\n",
       "      <td>0</td>\n",
       "      <td>0</td>\n",
       "      <td>0</td>\n",
       "      <td>0</td>\n",
       "      <td>0</td>\n",
       "      <td>0</td>\n",
       "      <td>0</td>\n",
       "      <td>0</td>\n",
       "    </tr>\n",
       "    <tr>\n",
       "      <td>3</td>\n",
       "      <td>244</td>\n",
       "      <td>0</td>\n",
       "      <td>0</td>\n",
       "      <td>0</td>\n",
       "      <td>0</td>\n",
       "      <td>0</td>\n",
       "      <td>0</td>\n",
       "      <td>0</td>\n",
       "      <td>0</td>\n",
       "      <td>0</td>\n",
       "      <td>...</td>\n",
       "      <td>0</td>\n",
       "      <td>0</td>\n",
       "      <td>0</td>\n",
       "      <td>0</td>\n",
       "      <td>0</td>\n",
       "      <td>0</td>\n",
       "      <td>0</td>\n",
       "      <td>0</td>\n",
       "      <td>0</td>\n",
       "      <td>0</td>\n",
       "    </tr>\n",
       "    <tr>\n",
       "      <td>4</td>\n",
       "      <td>166</td>\n",
       "      <td>0</td>\n",
       "      <td>0</td>\n",
       "      <td>0</td>\n",
       "      <td>0</td>\n",
       "      <td>0</td>\n",
       "      <td>0</td>\n",
       "      <td>0</td>\n",
       "      <td>0</td>\n",
       "      <td>0</td>\n",
       "      <td>...</td>\n",
       "      <td>0</td>\n",
       "      <td>0</td>\n",
       "      <td>0</td>\n",
       "      <td>0</td>\n",
       "      <td>0</td>\n",
       "      <td>0</td>\n",
       "      <td>0</td>\n",
       "      <td>0</td>\n",
       "      <td>0</td>\n",
       "      <td>0</td>\n",
       "    </tr>\n",
       "  </tbody>\n",
       "</table>\n",
       "<p>5 rows × 1683 columns</p>\n",
       "</div>"
      ],
      "text/plain": [
       "   user_id  movie_id_1  movie_id_2  movie_id_3  movie_id_4  movie_id_5  \\\n",
       "0      196           0           0           0           0           0   \n",
       "1      186           0           0           0           0           0   \n",
       "2       22           0           0           0           0           0   \n",
       "3      244           0           0           0           0           0   \n",
       "4      166           0           0           0           0           0   \n",
       "\n",
       "   movie_id_6  movie_id_7  movie_id_8  movie_id_9  ...  movie_id_1673  \\\n",
       "0           0           0           0           0  ...              0   \n",
       "1           0           0           0           0  ...              0   \n",
       "2           0           0           0           0  ...              0   \n",
       "3           0           0           0           0  ...              0   \n",
       "4           0           0           0           0  ...              0   \n",
       "\n",
       "   movie_id_1674  movie_id_1675  movie_id_1676  movie_id_1677  movie_id_1678  \\\n",
       "0              0              0              0              0              0   \n",
       "1              0              0              0              0              0   \n",
       "2              0              0              0              0              0   \n",
       "3              0              0              0              0              0   \n",
       "4              0              0              0              0              0   \n",
       "\n",
       "   movie_id_1679  movie_id_1680  movie_id_1681  movie_id_1682  \n",
       "0              0              0              0              0  \n",
       "1              0              0              0              0  \n",
       "2              0              0              0              0  \n",
       "3              0              0              0              0  \n",
       "4              0              0              0              0  \n",
       "\n",
       "[5 rows x 1683 columns]"
      ]
     },
     "execution_count": 20,
     "metadata": {},
     "output_type": "execute_result"
    }
   ],
   "source": [
    "one_hot = one_hot[one_hot.columns.tolist()[-1:] + one_hot.columns.tolist()[:-1]]\n",
    "one_hot.head()"
   ]
  },
  {
   "cell_type": "code",
   "execution_count": 21,
   "metadata": {},
   "outputs": [],
   "source": [
    "grouped = one_hot.groupby(\"user_id\")"
   ]
  },
  {
   "cell_type": "code",
   "execution_count": 22,
   "metadata": {},
   "outputs": [],
   "source": [
    "exposure_model_data = pd.DataFrame(columns=one_hot.columns)"
   ]
  },
  {
   "cell_type": "code",
   "execution_count": 23,
   "metadata": {},
   "outputs": [
    {
     "name": "stderr",
     "output_type": "stream",
     "text": [
      "100%|██████████| 943/943 [00:23<00:00, 39.81it/s]\n"
     ]
    }
   ],
   "source": [
    "# grouping the one hot encoded user_id wise\n",
    "\n",
    "for i in tqdm(one_hot.user_id.unique().tolist()):\n",
    "    temp = pd.DataFrame(grouped.get_group(i).drop(\"user_id\", axis=1).sum()).T\n",
    "    temp[\"user_id\"] = i\n",
    "    temp = temp[temp.columns.tolist()[-1:] + temp.columns.tolist()[:-1]]\n",
    "    exposure_model_data = pd.concat([exposure_model_data, temp], ignore_index=True)"
   ]
  },
  {
   "cell_type": "code",
   "execution_count": 24,
   "metadata": {},
   "outputs": [
    {
     "data": {
      "text/html": [
       "<div>\n",
       "<style scoped>\n",
       "    .dataframe tbody tr th:only-of-type {\n",
       "        vertical-align: middle;\n",
       "    }\n",
       "\n",
       "    .dataframe tbody tr th {\n",
       "        vertical-align: top;\n",
       "    }\n",
       "\n",
       "    .dataframe thead th {\n",
       "        text-align: right;\n",
       "    }\n",
       "</style>\n",
       "<table border=\"1\" class=\"dataframe\">\n",
       "  <thead>\n",
       "    <tr style=\"text-align: right;\">\n",
       "      <th></th>\n",
       "      <th>user_id</th>\n",
       "      <th>movie_id_1</th>\n",
       "      <th>movie_id_2</th>\n",
       "      <th>movie_id_3</th>\n",
       "      <th>movie_id_4</th>\n",
       "      <th>movie_id_5</th>\n",
       "      <th>movie_id_6</th>\n",
       "      <th>movie_id_7</th>\n",
       "      <th>movie_id_8</th>\n",
       "      <th>movie_id_9</th>\n",
       "      <th>...</th>\n",
       "      <th>movie_id_1673</th>\n",
       "      <th>movie_id_1674</th>\n",
       "      <th>movie_id_1675</th>\n",
       "      <th>movie_id_1676</th>\n",
       "      <th>movie_id_1677</th>\n",
       "      <th>movie_id_1678</th>\n",
       "      <th>movie_id_1679</th>\n",
       "      <th>movie_id_1680</th>\n",
       "      <th>movie_id_1681</th>\n",
       "      <th>movie_id_1682</th>\n",
       "    </tr>\n",
       "  </thead>\n",
       "  <tbody>\n",
       "    <tr>\n",
       "      <td>0</td>\n",
       "      <td>196</td>\n",
       "      <td>0</td>\n",
       "      <td>0</td>\n",
       "      <td>0</td>\n",
       "      <td>0</td>\n",
       "      <td>0</td>\n",
       "      <td>0</td>\n",
       "      <td>0</td>\n",
       "      <td>1</td>\n",
       "      <td>0</td>\n",
       "      <td>...</td>\n",
       "      <td>0</td>\n",
       "      <td>0</td>\n",
       "      <td>0</td>\n",
       "      <td>0</td>\n",
       "      <td>0</td>\n",
       "      <td>0</td>\n",
       "      <td>0</td>\n",
       "      <td>0</td>\n",
       "      <td>0</td>\n",
       "      <td>0</td>\n",
       "    </tr>\n",
       "    <tr>\n",
       "      <td>1</td>\n",
       "      <td>186</td>\n",
       "      <td>0</td>\n",
       "      <td>0</td>\n",
       "      <td>0</td>\n",
       "      <td>0</td>\n",
       "      <td>0</td>\n",
       "      <td>0</td>\n",
       "      <td>0</td>\n",
       "      <td>0</td>\n",
       "      <td>0</td>\n",
       "      <td>...</td>\n",
       "      <td>0</td>\n",
       "      <td>0</td>\n",
       "      <td>0</td>\n",
       "      <td>0</td>\n",
       "      <td>0</td>\n",
       "      <td>0</td>\n",
       "      <td>0</td>\n",
       "      <td>0</td>\n",
       "      <td>0</td>\n",
       "      <td>0</td>\n",
       "    </tr>\n",
       "    <tr>\n",
       "      <td>2</td>\n",
       "      <td>22</td>\n",
       "      <td>0</td>\n",
       "      <td>1</td>\n",
       "      <td>0</td>\n",
       "      <td>1</td>\n",
       "      <td>0</td>\n",
       "      <td>0</td>\n",
       "      <td>0</td>\n",
       "      <td>0</td>\n",
       "      <td>0</td>\n",
       "      <td>...</td>\n",
       "      <td>0</td>\n",
       "      <td>0</td>\n",
       "      <td>0</td>\n",
       "      <td>0</td>\n",
       "      <td>0</td>\n",
       "      <td>0</td>\n",
       "      <td>0</td>\n",
       "      <td>0</td>\n",
       "      <td>0</td>\n",
       "      <td>0</td>\n",
       "    </tr>\n",
       "    <tr>\n",
       "      <td>3</td>\n",
       "      <td>244</td>\n",
       "      <td>1</td>\n",
       "      <td>0</td>\n",
       "      <td>1</td>\n",
       "      <td>0</td>\n",
       "      <td>0</td>\n",
       "      <td>0</td>\n",
       "      <td>1</td>\n",
       "      <td>0</td>\n",
       "      <td>1</td>\n",
       "      <td>...</td>\n",
       "      <td>0</td>\n",
       "      <td>0</td>\n",
       "      <td>0</td>\n",
       "      <td>0</td>\n",
       "      <td>0</td>\n",
       "      <td>0</td>\n",
       "      <td>0</td>\n",
       "      <td>0</td>\n",
       "      <td>0</td>\n",
       "      <td>0</td>\n",
       "    </tr>\n",
       "    <tr>\n",
       "      <td>4</td>\n",
       "      <td>166</td>\n",
       "      <td>0</td>\n",
       "      <td>0</td>\n",
       "      <td>0</td>\n",
       "      <td>0</td>\n",
       "      <td>0</td>\n",
       "      <td>0</td>\n",
       "      <td>0</td>\n",
       "      <td>0</td>\n",
       "      <td>0</td>\n",
       "      <td>...</td>\n",
       "      <td>0</td>\n",
       "      <td>0</td>\n",
       "      <td>0</td>\n",
       "      <td>0</td>\n",
       "      <td>0</td>\n",
       "      <td>0</td>\n",
       "      <td>0</td>\n",
       "      <td>0</td>\n",
       "      <td>0</td>\n",
       "      <td>0</td>\n",
       "    </tr>\n",
       "  </tbody>\n",
       "</table>\n",
       "<p>5 rows × 1683 columns</p>\n",
       "</div>"
      ],
      "text/plain": [
       "  user_id movie_id_1 movie_id_2 movie_id_3 movie_id_4 movie_id_5 movie_id_6  \\\n",
       "0     196          0          0          0          0          0          0   \n",
       "1     186          0          0          0          0          0          0   \n",
       "2      22          0          1          0          1          0          0   \n",
       "3     244          1          0          1          0          0          0   \n",
       "4     166          0          0          0          0          0          0   \n",
       "\n",
       "  movie_id_7 movie_id_8 movie_id_9  ... movie_id_1673 movie_id_1674  \\\n",
       "0          0          1          0  ...             0             0   \n",
       "1          0          0          0  ...             0             0   \n",
       "2          0          0          0  ...             0             0   \n",
       "3          1          0          1  ...             0             0   \n",
       "4          0          0          0  ...             0             0   \n",
       "\n",
       "  movie_id_1675 movie_id_1676 movie_id_1677 movie_id_1678 movie_id_1679  \\\n",
       "0             0             0             0             0             0   \n",
       "1             0             0             0             0             0   \n",
       "2             0             0             0             0             0   \n",
       "3             0             0             0             0             0   \n",
       "4             0             0             0             0             0   \n",
       "\n",
       "  movie_id_1680 movie_id_1681 movie_id_1682  \n",
       "0             0             0             0  \n",
       "1             0             0             0  \n",
       "2             0             0             0  \n",
       "3             0             0             0  \n",
       "4             0             0             0  \n",
       "\n",
       "[5 rows x 1683 columns]"
      ]
     },
     "execution_count": 24,
     "metadata": {},
     "output_type": "execute_result"
    }
   ],
   "source": [
    "exposure_model_data.head()"
   ]
  },
  {
   "cell_type": "code",
   "execution_count": 25,
   "metadata": {},
   "outputs": [
    {
     "data": {
      "text/plain": [
       "(943, 1683)"
      ]
     },
     "execution_count": 25,
     "metadata": {},
     "output_type": "execute_result"
    }
   ],
   "source": [
    "exposure_model_data.shape"
   ]
  },
  {
   "cell_type": "code",
   "execution_count": 16,
   "metadata": {},
   "outputs": [],
   "source": [
    "# Uncomment only when exposure model data write to csv is needed\n",
    "\n",
    "#exposure_model_data.to_csv(\"data/preprocess_data/preproc_100k_exposure_data.csv\", index=False)"
   ]
  },
  {
   "cell_type": "markdown",
   "metadata": {},
   "source": [
    "# 80 - 20 split -- 100K data -- exposure model"
   ]
  },
  {
   "cell_type": "code",
   "execution_count": 3,
   "metadata": {},
   "outputs": [],
   "source": [
    "df = pd.read_csv(\"data/user_data/ml_100k_user_data.csv\")"
   ]
  },
  {
   "cell_type": "code",
   "execution_count": 4,
   "metadata": {},
   "outputs": [],
   "source": [
    "movie_col_list = [\"movie_id_\"+str(i) for i in df.movie_id.unique()]"
   ]
  },
  {
   "cell_type": "code",
   "execution_count": 5,
   "metadata": {},
   "outputs": [],
   "source": [
    "y = df.rating\n",
    "X = df.drop([\"rating\"], axis=1)"
   ]
  },
  {
   "cell_type": "code",
   "execution_count": 6,
   "metadata": {},
   "outputs": [],
   "source": [
    "del df"
   ]
  },
  {
   "cell_type": "code",
   "execution_count": 7,
   "metadata": {},
   "outputs": [],
   "source": [
    "X_train, X_test, y_train, y_test = train_test_split(X, y, test_size=0.2, random_state=42)"
   ]
  },
  {
   "cell_type": "code",
   "execution_count": 8,
   "metadata": {},
   "outputs": [
    {
     "name": "stderr",
     "output_type": "stream",
     "text": [
      "/home/agni-ubuntu/anaconda3/lib/python3.7/site-packages/ipykernel_launcher.py:1: SettingWithCopyWarning: \n",
      "A value is trying to be set on a copy of a slice from a DataFrame.\n",
      "Try using .loc[row_indexer,col_indexer] = value instead\n",
      "\n",
      "See the caveats in the documentation: https://pandas.pydata.org/pandas-docs/stable/user_guide/indexing.html#returning-a-view-versus-a-copy\n",
      "  \"\"\"Entry point for launching an IPython kernel.\n",
      "/home/agni-ubuntu/anaconda3/lib/python3.7/site-packages/ipykernel_launcher.py:2: SettingWithCopyWarning: \n",
      "A value is trying to be set on a copy of a slice from a DataFrame.\n",
      "Try using .loc[row_indexer,col_indexer] = value instead\n",
      "\n",
      "See the caveats in the documentation: https://pandas.pydata.org/pandas-docs/stable/user_guide/indexing.html#returning-a-view-versus-a-copy\n",
      "  \n"
     ]
    }
   ],
   "source": [
    "X_train['rating'] = y_train\n",
    "X_test['rating'] = y_test"
   ]
  },
  {
   "cell_type": "code",
   "execution_count": 9,
   "metadata": {},
   "outputs": [
    {
     "name": "stderr",
     "output_type": "stream",
     "text": [
      "/home/agni-ubuntu/anaconda3/lib/python3.7/site-packages/pandas/core/generic.py:5168: SettingWithCopyWarning: \n",
      "A value is trying to be set on a copy of a slice from a DataFrame.\n",
      "Try using .loc[row_indexer,col_indexer] = value instead\n",
      "\n",
      "See the caveats in the documentation: https://pandas.pydata.org/pandas-docs/stable/user_guide/indexing.html#returning-a-view-versus-a-copy\n",
      "  self[name] = value\n"
     ]
    }
   ],
   "source": [
    "X_train = shrink_df(X_train)\n",
    "X_test = shrink_df(X_test)"
   ]
  },
  {
   "cell_type": "code",
   "execution_count": 10,
   "metadata": {},
   "outputs": [],
   "source": [
    "X_train.to_csv(\"data/preprocess_data/n_preproc_100k_udata_train.csv\", index=False)"
   ]
  },
  {
   "cell_type": "code",
   "execution_count": 11,
   "metadata": {},
   "outputs": [],
   "source": [
    "X_test.to_csv(\"data/preprocess_data/n_preproc_100k_udata_test.csv\", index=False)"
   ]
  },
  {
   "cell_type": "code",
   "execution_count": 12,
   "metadata": {},
   "outputs": [],
   "source": [
    "# Convert to one hot vector"
   ]
  },
  {
   "cell_type": "code",
   "execution_count": 13,
   "metadata": {},
   "outputs": [],
   "source": [
    "one_hot_X_train_100k = pd.get_dummies(X_train.movie_id, prefix=\"movie_id\", dtype=np.uint8)"
   ]
  },
  {
   "cell_type": "code",
   "execution_count": 14,
   "metadata": {},
   "outputs": [],
   "source": [
    "one_hot_X_test_100k = pd.get_dummies(X_test.movie_id, prefix=\"movie_id\", dtype=np.uint8)"
   ]
  },
  {
   "cell_type": "code",
   "execution_count": 15,
   "metadata": {},
   "outputs": [],
   "source": [
    "# group the one hot vector by user_id"
   ]
  },
  {
   "cell_type": "code",
   "execution_count": 16,
   "metadata": {},
   "outputs": [],
   "source": [
    "one_hot_X_train_100k['user_id'] = X_train.user_id\n",
    "one_hot_X_test_100k['user_id'] = X_test.user_id"
   ]
  },
  {
   "cell_type": "code",
   "execution_count": 17,
   "metadata": {},
   "outputs": [],
   "source": [
    "del X_train\n",
    "del X_test"
   ]
  },
  {
   "cell_type": "code",
   "execution_count": 18,
   "metadata": {},
   "outputs": [
    {
     "data": {
      "text/html": [
       "<div>\n",
       "<style scoped>\n",
       "    .dataframe tbody tr th:only-of-type {\n",
       "        vertical-align: middle;\n",
       "    }\n",
       "\n",
       "    .dataframe tbody tr th {\n",
       "        vertical-align: top;\n",
       "    }\n",
       "\n",
       "    .dataframe thead th {\n",
       "        text-align: right;\n",
       "    }\n",
       "</style>\n",
       "<table border=\"1\" class=\"dataframe\">\n",
       "  <thead>\n",
       "    <tr style=\"text-align: right;\">\n",
       "      <th></th>\n",
       "      <th>user_id</th>\n",
       "      <th>movie_id_1</th>\n",
       "      <th>movie_id_2</th>\n",
       "      <th>movie_id_3</th>\n",
       "      <th>movie_id_4</th>\n",
       "      <th>movie_id_5</th>\n",
       "      <th>movie_id_6</th>\n",
       "      <th>movie_id_7</th>\n",
       "      <th>movie_id_8</th>\n",
       "      <th>movie_id_9</th>\n",
       "      <th>...</th>\n",
       "      <th>movie_id_1668</th>\n",
       "      <th>movie_id_1670</th>\n",
       "      <th>movie_id_1671</th>\n",
       "      <th>movie_id_1672</th>\n",
       "      <th>movie_id_1673</th>\n",
       "      <th>movie_id_1676</th>\n",
       "      <th>movie_id_1678</th>\n",
       "      <th>movie_id_1679</th>\n",
       "      <th>movie_id_1680</th>\n",
       "      <th>movie_id_1681</th>\n",
       "    </tr>\n",
       "  </thead>\n",
       "  <tbody>\n",
       "    <tr>\n",
       "      <th>75220</th>\n",
       "      <td>807</td>\n",
       "      <td>0</td>\n",
       "      <td>0</td>\n",
       "      <td>0</td>\n",
       "      <td>0</td>\n",
       "      <td>0</td>\n",
       "      <td>0</td>\n",
       "      <td>0</td>\n",
       "      <td>0</td>\n",
       "      <td>0</td>\n",
       "      <td>...</td>\n",
       "      <td>0</td>\n",
       "      <td>0</td>\n",
       "      <td>0</td>\n",
       "      <td>0</td>\n",
       "      <td>0</td>\n",
       "      <td>0</td>\n",
       "      <td>0</td>\n",
       "      <td>0</td>\n",
       "      <td>0</td>\n",
       "      <td>0</td>\n",
       "    </tr>\n",
       "    <tr>\n",
       "      <th>48955</th>\n",
       "      <td>474</td>\n",
       "      <td>0</td>\n",
       "      <td>0</td>\n",
       "      <td>0</td>\n",
       "      <td>0</td>\n",
       "      <td>0</td>\n",
       "      <td>0</td>\n",
       "      <td>0</td>\n",
       "      <td>0</td>\n",
       "      <td>0</td>\n",
       "      <td>...</td>\n",
       "      <td>0</td>\n",
       "      <td>0</td>\n",
       "      <td>0</td>\n",
       "      <td>0</td>\n",
       "      <td>0</td>\n",
       "      <td>0</td>\n",
       "      <td>0</td>\n",
       "      <td>0</td>\n",
       "      <td>0</td>\n",
       "      <td>0</td>\n",
       "    </tr>\n",
       "    <tr>\n",
       "      <th>44966</th>\n",
       "      <td>463</td>\n",
       "      <td>0</td>\n",
       "      <td>0</td>\n",
       "      <td>0</td>\n",
       "      <td>0</td>\n",
       "      <td>0</td>\n",
       "      <td>0</td>\n",
       "      <td>0</td>\n",
       "      <td>0</td>\n",
       "      <td>0</td>\n",
       "      <td>...</td>\n",
       "      <td>0</td>\n",
       "      <td>0</td>\n",
       "      <td>0</td>\n",
       "      <td>0</td>\n",
       "      <td>0</td>\n",
       "      <td>0</td>\n",
       "      <td>0</td>\n",
       "      <td>0</td>\n",
       "      <td>0</td>\n",
       "      <td>0</td>\n",
       "    </tr>\n",
       "    <tr>\n",
       "      <th>13568</th>\n",
       "      <td>139</td>\n",
       "      <td>0</td>\n",
       "      <td>0</td>\n",
       "      <td>0</td>\n",
       "      <td>0</td>\n",
       "      <td>0</td>\n",
       "      <td>0</td>\n",
       "      <td>0</td>\n",
       "      <td>0</td>\n",
       "      <td>0</td>\n",
       "      <td>...</td>\n",
       "      <td>0</td>\n",
       "      <td>0</td>\n",
       "      <td>0</td>\n",
       "      <td>0</td>\n",
       "      <td>0</td>\n",
       "      <td>0</td>\n",
       "      <td>0</td>\n",
       "      <td>0</td>\n",
       "      <td>0</td>\n",
       "      <td>0</td>\n",
       "    </tr>\n",
       "    <tr>\n",
       "      <th>92727</th>\n",
       "      <td>621</td>\n",
       "      <td>0</td>\n",
       "      <td>0</td>\n",
       "      <td>0</td>\n",
       "      <td>0</td>\n",
       "      <td>0</td>\n",
       "      <td>0</td>\n",
       "      <td>0</td>\n",
       "      <td>0</td>\n",
       "      <td>0</td>\n",
       "      <td>...</td>\n",
       "      <td>0</td>\n",
       "      <td>0</td>\n",
       "      <td>0</td>\n",
       "      <td>0</td>\n",
       "      <td>0</td>\n",
       "      <td>0</td>\n",
       "      <td>0</td>\n",
       "      <td>0</td>\n",
       "      <td>0</td>\n",
       "      <td>0</td>\n",
       "    </tr>\n",
       "  </tbody>\n",
       "</table>\n",
       "<p>5 rows × 1654 columns</p>\n",
       "</div>"
      ],
      "text/plain": [
       "       user_id  movie_id_1  movie_id_2  movie_id_3  movie_id_4  movie_id_5  \\\n",
       "75220      807           0           0           0           0           0   \n",
       "48955      474           0           0           0           0           0   \n",
       "44966      463           0           0           0           0           0   \n",
       "13568      139           0           0           0           0           0   \n",
       "92727      621           0           0           0           0           0   \n",
       "\n",
       "       movie_id_6  movie_id_7  movie_id_8  movie_id_9  ...  movie_id_1668  \\\n",
       "75220           0           0           0           0  ...              0   \n",
       "48955           0           0           0           0  ...              0   \n",
       "44966           0           0           0           0  ...              0   \n",
       "13568           0           0           0           0  ...              0   \n",
       "92727           0           0           0           0  ...              0   \n",
       "\n",
       "       movie_id_1670  movie_id_1671  movie_id_1672  movie_id_1673  \\\n",
       "75220              0              0              0              0   \n",
       "48955              0              0              0              0   \n",
       "44966              0              0              0              0   \n",
       "13568              0              0              0              0   \n",
       "92727              0              0              0              0   \n",
       "\n",
       "       movie_id_1676  movie_id_1678  movie_id_1679  movie_id_1680  \\\n",
       "75220              0              0              0              0   \n",
       "48955              0              0              0              0   \n",
       "44966              0              0              0              0   \n",
       "13568              0              0              0              0   \n",
       "92727              0              0              0              0   \n",
       "\n",
       "       movie_id_1681  \n",
       "75220              0  \n",
       "48955              0  \n",
       "44966              0  \n",
       "13568              0  \n",
       "92727              0  \n",
       "\n",
       "[5 rows x 1654 columns]"
      ]
     },
     "execution_count": 18,
     "metadata": {},
     "output_type": "execute_result"
    }
   ],
   "source": [
    "one_hot_X_train_100k = one_hot_X_train_100k[one_hot_X_train_100k.columns.tolist()[-1:] + \n",
    "                                            one_hot_X_train_100k.columns.tolist()[:-1]]\n",
    "\n",
    "one_hot_X_train_100k.head()"
   ]
  },
  {
   "cell_type": "code",
   "execution_count": 19,
   "metadata": {},
   "outputs": [
    {
     "data": {
      "text/html": [
       "<div>\n",
       "<style scoped>\n",
       "    .dataframe tbody tr th:only-of-type {\n",
       "        vertical-align: middle;\n",
       "    }\n",
       "\n",
       "    .dataframe tbody tr th {\n",
       "        vertical-align: top;\n",
       "    }\n",
       "\n",
       "    .dataframe thead th {\n",
       "        text-align: right;\n",
       "    }\n",
       "</style>\n",
       "<table border=\"1\" class=\"dataframe\">\n",
       "  <thead>\n",
       "    <tr style=\"text-align: right;\">\n",
       "      <th></th>\n",
       "      <th>user_id</th>\n",
       "      <th>movie_id_1</th>\n",
       "      <th>movie_id_2</th>\n",
       "      <th>movie_id_3</th>\n",
       "      <th>movie_id_4</th>\n",
       "      <th>movie_id_5</th>\n",
       "      <th>movie_id_6</th>\n",
       "      <th>movie_id_7</th>\n",
       "      <th>movie_id_8</th>\n",
       "      <th>movie_id_9</th>\n",
       "      <th>...</th>\n",
       "      <th>movie_id_1648</th>\n",
       "      <th>movie_id_1649</th>\n",
       "      <th>movie_id_1655</th>\n",
       "      <th>movie_id_1656</th>\n",
       "      <th>movie_id_1658</th>\n",
       "      <th>movie_id_1669</th>\n",
       "      <th>movie_id_1674</th>\n",
       "      <th>movie_id_1675</th>\n",
       "      <th>movie_id_1677</th>\n",
       "      <th>movie_id_1682</th>\n",
       "    </tr>\n",
       "  </thead>\n",
       "  <tbody>\n",
       "    <tr>\n",
       "      <th>75721</th>\n",
       "      <td>877</td>\n",
       "      <td>0</td>\n",
       "      <td>0</td>\n",
       "      <td>0</td>\n",
       "      <td>0</td>\n",
       "      <td>0</td>\n",
       "      <td>0</td>\n",
       "      <td>0</td>\n",
       "      <td>0</td>\n",
       "      <td>0</td>\n",
       "      <td>...</td>\n",
       "      <td>0</td>\n",
       "      <td>0</td>\n",
       "      <td>0</td>\n",
       "      <td>0</td>\n",
       "      <td>0</td>\n",
       "      <td>0</td>\n",
       "      <td>0</td>\n",
       "      <td>0</td>\n",
       "      <td>0</td>\n",
       "      <td>0</td>\n",
       "    </tr>\n",
       "    <tr>\n",
       "      <th>80184</th>\n",
       "      <td>815</td>\n",
       "      <td>0</td>\n",
       "      <td>0</td>\n",
       "      <td>0</td>\n",
       "      <td>0</td>\n",
       "      <td>0</td>\n",
       "      <td>0</td>\n",
       "      <td>0</td>\n",
       "      <td>0</td>\n",
       "      <td>0</td>\n",
       "      <td>...</td>\n",
       "      <td>0</td>\n",
       "      <td>0</td>\n",
       "      <td>0</td>\n",
       "      <td>0</td>\n",
       "      <td>0</td>\n",
       "      <td>0</td>\n",
       "      <td>0</td>\n",
       "      <td>0</td>\n",
       "      <td>0</td>\n",
       "      <td>0</td>\n",
       "    </tr>\n",
       "    <tr>\n",
       "      <th>19864</th>\n",
       "      <td>94</td>\n",
       "      <td>0</td>\n",
       "      <td>0</td>\n",
       "      <td>0</td>\n",
       "      <td>0</td>\n",
       "      <td>0</td>\n",
       "      <td>0</td>\n",
       "      <td>0</td>\n",
       "      <td>0</td>\n",
       "      <td>0</td>\n",
       "      <td>...</td>\n",
       "      <td>0</td>\n",
       "      <td>0</td>\n",
       "      <td>0</td>\n",
       "      <td>0</td>\n",
       "      <td>0</td>\n",
       "      <td>0</td>\n",
       "      <td>0</td>\n",
       "      <td>0</td>\n",
       "      <td>0</td>\n",
       "      <td>0</td>\n",
       "    </tr>\n",
       "    <tr>\n",
       "      <th>76699</th>\n",
       "      <td>416</td>\n",
       "      <td>0</td>\n",
       "      <td>0</td>\n",
       "      <td>0</td>\n",
       "      <td>0</td>\n",
       "      <td>0</td>\n",
       "      <td>0</td>\n",
       "      <td>0</td>\n",
       "      <td>0</td>\n",
       "      <td>0</td>\n",
       "      <td>...</td>\n",
       "      <td>0</td>\n",
       "      <td>0</td>\n",
       "      <td>0</td>\n",
       "      <td>0</td>\n",
       "      <td>0</td>\n",
       "      <td>0</td>\n",
       "      <td>0</td>\n",
       "      <td>0</td>\n",
       "      <td>0</td>\n",
       "      <td>0</td>\n",
       "    </tr>\n",
       "    <tr>\n",
       "      <th>92991</th>\n",
       "      <td>500</td>\n",
       "      <td>0</td>\n",
       "      <td>0</td>\n",
       "      <td>0</td>\n",
       "      <td>0</td>\n",
       "      <td>0</td>\n",
       "      <td>0</td>\n",
       "      <td>0</td>\n",
       "      <td>0</td>\n",
       "      <td>0</td>\n",
       "      <td>...</td>\n",
       "      <td>0</td>\n",
       "      <td>0</td>\n",
       "      <td>0</td>\n",
       "      <td>0</td>\n",
       "      <td>0</td>\n",
       "      <td>0</td>\n",
       "      <td>0</td>\n",
       "      <td>0</td>\n",
       "      <td>0</td>\n",
       "      <td>0</td>\n",
       "    </tr>\n",
       "  </tbody>\n",
       "</table>\n",
       "<p>5 rows × 1412 columns</p>\n",
       "</div>"
      ],
      "text/plain": [
       "       user_id  movie_id_1  movie_id_2  movie_id_3  movie_id_4  movie_id_5  \\\n",
       "75721      877           0           0           0           0           0   \n",
       "80184      815           0           0           0           0           0   \n",
       "19864       94           0           0           0           0           0   \n",
       "76699      416           0           0           0           0           0   \n",
       "92991      500           0           0           0           0           0   \n",
       "\n",
       "       movie_id_6  movie_id_7  movie_id_8  movie_id_9  ...  movie_id_1648  \\\n",
       "75721           0           0           0           0  ...              0   \n",
       "80184           0           0           0           0  ...              0   \n",
       "19864           0           0           0           0  ...              0   \n",
       "76699           0           0           0           0  ...              0   \n",
       "92991           0           0           0           0  ...              0   \n",
       "\n",
       "       movie_id_1649  movie_id_1655  movie_id_1656  movie_id_1658  \\\n",
       "75721              0              0              0              0   \n",
       "80184              0              0              0              0   \n",
       "19864              0              0              0              0   \n",
       "76699              0              0              0              0   \n",
       "92991              0              0              0              0   \n",
       "\n",
       "       movie_id_1669  movie_id_1674  movie_id_1675  movie_id_1677  \\\n",
       "75721              0              0              0              0   \n",
       "80184              0              0              0              0   \n",
       "19864              0              0              0              0   \n",
       "76699              0              0              0              0   \n",
       "92991              0              0              0              0   \n",
       "\n",
       "       movie_id_1682  \n",
       "75721              0  \n",
       "80184              0  \n",
       "19864              0  \n",
       "76699              0  \n",
       "92991              0  \n",
       "\n",
       "[5 rows x 1412 columns]"
      ]
     },
     "execution_count": 19,
     "metadata": {},
     "output_type": "execute_result"
    }
   ],
   "source": [
    "one_hot_X_test_100k = one_hot_X_test_100k[one_hot_X_test_100k.columns.tolist()[-1:] + \n",
    "                                            one_hot_X_test_100k.columns.tolist()[:-1]]\n",
    "\n",
    "one_hot_X_test_100k.head()"
   ]
  },
  {
   "cell_type": "code",
   "execution_count": 27,
   "metadata": {},
   "outputs": [],
   "source": [
    "# Add columns with Zeros for the movie id not included in the train test one hot vector df  "
   ]
  },
  {
   "cell_type": "code",
   "execution_count": 28,
   "metadata": {},
   "outputs": [],
   "source": [
    "missing_cols_train = list(set(movie_col_list) - set(one_hot_X_train_100k.columns))"
   ]
  },
  {
   "cell_type": "code",
   "execution_count": 31,
   "metadata": {},
   "outputs": [],
   "source": [
    "for col in missing_cols_train:\n",
    "    one_hot_X_train_100k[col] = np.zeros(len(one_hot_X_train_100k.user_id), dtype=np.uint8)"
   ]
  },
  {
   "cell_type": "code",
   "execution_count": 32,
   "metadata": {},
   "outputs": [
    {
     "data": {
      "text/plain": [
       "(80000, 1683)"
      ]
     },
     "execution_count": 32,
     "metadata": {},
     "output_type": "execute_result"
    }
   ],
   "source": [
    "one_hot_X_train_100k.shape"
   ]
  },
  {
   "cell_type": "code",
   "execution_count": 29,
   "metadata": {},
   "outputs": [],
   "source": [
    "missing_cols_test = list(set(movie_col_list) - set(one_hot_X_test_100k.columns))"
   ]
  },
  {
   "cell_type": "code",
   "execution_count": 33,
   "metadata": {},
   "outputs": [],
   "source": [
    "for col in missing_cols_test:\n",
    "    one_hot_X_test_100k[col] = np.zeros(len(one_hot_X_test_100k.user_id), dtype=np.uint8)"
   ]
  },
  {
   "cell_type": "code",
   "execution_count": 34,
   "metadata": {},
   "outputs": [
    {
     "data": {
      "text/plain": [
       "(20000, 1683)"
      ]
     },
     "execution_count": 34,
     "metadata": {},
     "output_type": "execute_result"
    }
   ],
   "source": [
    "one_hot_X_test_100k.shape"
   ]
  },
  {
   "cell_type": "code",
   "execution_count": 36,
   "metadata": {},
   "outputs": [],
   "source": [
    "# group the one hot vectors based on user_id"
   ]
  },
  {
   "cell_type": "code",
   "execution_count": 20,
   "metadata": {},
   "outputs": [],
   "source": [
    "grouped_train = one_hot_X_train_100k.groupby(\"user_id\")\n",
    "grouped_test = one_hot_X_test_100k.groupby(\"user_id\")"
   ]
  },
  {
   "cell_type": "code",
   "execution_count": 21,
   "metadata": {},
   "outputs": [],
   "source": [
    "exposure_model_data_train = pd.DataFrame(columns=one_hot_X_train_100k.columns)"
   ]
  },
  {
   "cell_type": "code",
   "execution_count": 22,
   "metadata": {},
   "outputs": [],
   "source": [
    "exposure_model_data_test = pd.DataFrame(columns=one_hot_X_test_100k.columns)"
   ]
  },
  {
   "cell_type": "code",
   "execution_count": 23,
   "metadata": {},
   "outputs": [],
   "source": [
    "# grouping the one hot encoded user_id wise"
   ]
  },
  {
   "cell_type": "code",
   "execution_count": 24,
   "metadata": {},
   "outputs": [
    {
     "name": "stderr",
     "output_type": "stream",
     "text": [
      "100%|██████████| 943/943 [00:11<00:00, 81.06it/s]\n"
     ]
    }
   ],
   "source": [
    "for i in tqdm(one_hot_X_train_100k.user_id.unique().tolist()):\n",
    "    temp = pd.DataFrame(grouped_train.get_group(i).drop(\"user_id\", axis=1).sum()).T\n",
    "    temp[\"user_id\"] = i\n",
    "    temp = temp[temp.columns.tolist()[-1:] + temp.columns.tolist()[:-1]]\n",
    "    exposure_model_data_train = pd.concat([exposure_model_data_train, temp], ignore_index=True)"
   ]
  },
  {
   "cell_type": "code",
   "execution_count": 25,
   "metadata": {},
   "outputs": [
    {
     "name": "stderr",
     "output_type": "stream",
     "text": [
      "100%|██████████| 940/940 [00:09<00:00, 96.22it/s] \n"
     ]
    }
   ],
   "source": [
    "for i in tqdm(one_hot_X_test_100k.user_id.unique().tolist()):\n",
    "    temp = pd.DataFrame(grouped_test.get_group(i).drop(\"user_id\", axis=1).sum()).T\n",
    "    temp[\"user_id\"] = i\n",
    "    temp = temp[temp.columns.tolist()[-1:] + temp.columns.tolist()[:-1]]\n",
    "    exposure_model_data_test = pd.concat([exposure_model_data_test, temp], ignore_index=True)"
   ]
  },
  {
   "cell_type": "code",
   "execution_count": 26,
   "metadata": {},
   "outputs": [
    {
     "data": {
      "text/plain": [
       "(943, 1654)"
      ]
     },
     "execution_count": 26,
     "metadata": {},
     "output_type": "execute_result"
    }
   ],
   "source": [
    "exposure_model_data_train.shape"
   ]
  },
  {
   "cell_type": "code",
   "execution_count": 27,
   "metadata": {},
   "outputs": [
    {
     "data": {
      "text/plain": [
       "(940, 1412)"
      ]
     },
     "execution_count": 27,
     "metadata": {},
     "output_type": "execute_result"
    }
   ],
   "source": [
    "exposure_model_data_test.shape"
   ]
  },
  {
   "cell_type": "code",
   "execution_count": 48,
   "metadata": {},
   "outputs": [],
   "source": [
    "# writing onto csv"
   ]
  },
  {
   "cell_type": "code",
   "execution_count": 28,
   "metadata": {},
   "outputs": [],
   "source": [
    "exposure_model_data_train.to_csv(\"data/preprocess_data/n_preproc_100k_exposure_data_train.csv\", index=False)"
   ]
  },
  {
   "cell_type": "code",
   "execution_count": 29,
   "metadata": {},
   "outputs": [],
   "source": [
    "exposure_model_data_test.to_csv(\"data/preprocess_data/n_preproc_100k_exposure_data_test.csv\", index=False)"
   ]
  },
  {
   "cell_type": "markdown",
   "metadata": {},
   "source": [
    "# 1m data -- 100% data -- exposure model"
   ]
  },
  {
   "cell_type": "code",
   "execution_count": 26,
   "metadata": {},
   "outputs": [],
   "source": [
    "data_1m = pd.read_csv('data/user_data/ml_1m_user_data.csv')"
   ]
  },
  {
   "cell_type": "code",
   "execution_count": 27,
   "metadata": {},
   "outputs": [],
   "source": [
    "# create one hot encoding using movie id\n",
    "\n",
    "one_hot = pd.get_dummies(data_1m.movie_id, prefix=\"movie_id\", dtype=np.uint8)"
   ]
  },
  {
   "cell_type": "code",
   "execution_count": 28,
   "metadata": {},
   "outputs": [],
   "source": [
    "one_hot['user_id'] = data_1m.user_id"
   ]
  },
  {
   "cell_type": "code",
   "execution_count": 36,
   "metadata": {},
   "outputs": [],
   "source": [
    "# clearing dataframe from memory which won't be required further for faster execution of below blocks\n",
    "\n",
    "del data_1m"
   ]
  },
  {
   "cell_type": "code",
   "execution_count": 29,
   "metadata": {},
   "outputs": [
    {
     "data": {
      "text/html": [
       "<div>\n",
       "<style scoped>\n",
       "    .dataframe tbody tr th:only-of-type {\n",
       "        vertical-align: middle;\n",
       "    }\n",
       "\n",
       "    .dataframe tbody tr th {\n",
       "        vertical-align: top;\n",
       "    }\n",
       "\n",
       "    .dataframe thead th {\n",
       "        text-align: right;\n",
       "    }\n",
       "</style>\n",
       "<table border=\"1\" class=\"dataframe\">\n",
       "  <thead>\n",
       "    <tr style=\"text-align: right;\">\n",
       "      <th></th>\n",
       "      <th>user_id</th>\n",
       "      <th>movie_id_1</th>\n",
       "      <th>movie_id_2</th>\n",
       "      <th>movie_id_3</th>\n",
       "      <th>movie_id_4</th>\n",
       "      <th>movie_id_5</th>\n",
       "      <th>movie_id_6</th>\n",
       "      <th>movie_id_7</th>\n",
       "      <th>movie_id_8</th>\n",
       "      <th>movie_id_9</th>\n",
       "      <th>...</th>\n",
       "      <th>movie_id_3943</th>\n",
       "      <th>movie_id_3944</th>\n",
       "      <th>movie_id_3945</th>\n",
       "      <th>movie_id_3946</th>\n",
       "      <th>movie_id_3947</th>\n",
       "      <th>movie_id_3948</th>\n",
       "      <th>movie_id_3949</th>\n",
       "      <th>movie_id_3950</th>\n",
       "      <th>movie_id_3951</th>\n",
       "      <th>movie_id_3952</th>\n",
       "    </tr>\n",
       "  </thead>\n",
       "  <tbody>\n",
       "    <tr>\n",
       "      <td>0</td>\n",
       "      <td>1</td>\n",
       "      <td>0</td>\n",
       "      <td>0</td>\n",
       "      <td>0</td>\n",
       "      <td>0</td>\n",
       "      <td>0</td>\n",
       "      <td>0</td>\n",
       "      <td>0</td>\n",
       "      <td>0</td>\n",
       "      <td>0</td>\n",
       "      <td>...</td>\n",
       "      <td>0</td>\n",
       "      <td>0</td>\n",
       "      <td>0</td>\n",
       "      <td>0</td>\n",
       "      <td>0</td>\n",
       "      <td>0</td>\n",
       "      <td>0</td>\n",
       "      <td>0</td>\n",
       "      <td>0</td>\n",
       "      <td>0</td>\n",
       "    </tr>\n",
       "    <tr>\n",
       "      <td>1</td>\n",
       "      <td>1</td>\n",
       "      <td>0</td>\n",
       "      <td>0</td>\n",
       "      <td>0</td>\n",
       "      <td>0</td>\n",
       "      <td>0</td>\n",
       "      <td>0</td>\n",
       "      <td>0</td>\n",
       "      <td>0</td>\n",
       "      <td>0</td>\n",
       "      <td>...</td>\n",
       "      <td>0</td>\n",
       "      <td>0</td>\n",
       "      <td>0</td>\n",
       "      <td>0</td>\n",
       "      <td>0</td>\n",
       "      <td>0</td>\n",
       "      <td>0</td>\n",
       "      <td>0</td>\n",
       "      <td>0</td>\n",
       "      <td>0</td>\n",
       "    </tr>\n",
       "    <tr>\n",
       "      <td>2</td>\n",
       "      <td>1</td>\n",
       "      <td>0</td>\n",
       "      <td>0</td>\n",
       "      <td>0</td>\n",
       "      <td>0</td>\n",
       "      <td>0</td>\n",
       "      <td>0</td>\n",
       "      <td>0</td>\n",
       "      <td>0</td>\n",
       "      <td>0</td>\n",
       "      <td>...</td>\n",
       "      <td>0</td>\n",
       "      <td>0</td>\n",
       "      <td>0</td>\n",
       "      <td>0</td>\n",
       "      <td>0</td>\n",
       "      <td>0</td>\n",
       "      <td>0</td>\n",
       "      <td>0</td>\n",
       "      <td>0</td>\n",
       "      <td>0</td>\n",
       "    </tr>\n",
       "    <tr>\n",
       "      <td>3</td>\n",
       "      <td>1</td>\n",
       "      <td>0</td>\n",
       "      <td>0</td>\n",
       "      <td>0</td>\n",
       "      <td>0</td>\n",
       "      <td>0</td>\n",
       "      <td>0</td>\n",
       "      <td>0</td>\n",
       "      <td>0</td>\n",
       "      <td>0</td>\n",
       "      <td>...</td>\n",
       "      <td>0</td>\n",
       "      <td>0</td>\n",
       "      <td>0</td>\n",
       "      <td>0</td>\n",
       "      <td>0</td>\n",
       "      <td>0</td>\n",
       "      <td>0</td>\n",
       "      <td>0</td>\n",
       "      <td>0</td>\n",
       "      <td>0</td>\n",
       "    </tr>\n",
       "    <tr>\n",
       "      <td>4</td>\n",
       "      <td>1</td>\n",
       "      <td>0</td>\n",
       "      <td>0</td>\n",
       "      <td>0</td>\n",
       "      <td>0</td>\n",
       "      <td>0</td>\n",
       "      <td>0</td>\n",
       "      <td>0</td>\n",
       "      <td>0</td>\n",
       "      <td>0</td>\n",
       "      <td>...</td>\n",
       "      <td>0</td>\n",
       "      <td>0</td>\n",
       "      <td>0</td>\n",
       "      <td>0</td>\n",
       "      <td>0</td>\n",
       "      <td>0</td>\n",
       "      <td>0</td>\n",
       "      <td>0</td>\n",
       "      <td>0</td>\n",
       "      <td>0</td>\n",
       "    </tr>\n",
       "  </tbody>\n",
       "</table>\n",
       "<p>5 rows × 3707 columns</p>\n",
       "</div>"
      ],
      "text/plain": [
       "   user_id  movie_id_1  movie_id_2  movie_id_3  movie_id_4  movie_id_5  \\\n",
       "0        1           0           0           0           0           0   \n",
       "1        1           0           0           0           0           0   \n",
       "2        1           0           0           0           0           0   \n",
       "3        1           0           0           0           0           0   \n",
       "4        1           0           0           0           0           0   \n",
       "\n",
       "   movie_id_6  movie_id_7  movie_id_8  movie_id_9  ...  movie_id_3943  \\\n",
       "0           0           0           0           0  ...              0   \n",
       "1           0           0           0           0  ...              0   \n",
       "2           0           0           0           0  ...              0   \n",
       "3           0           0           0           0  ...              0   \n",
       "4           0           0           0           0  ...              0   \n",
       "\n",
       "   movie_id_3944  movie_id_3945  movie_id_3946  movie_id_3947  movie_id_3948  \\\n",
       "0              0              0              0              0              0   \n",
       "1              0              0              0              0              0   \n",
       "2              0              0              0              0              0   \n",
       "3              0              0              0              0              0   \n",
       "4              0              0              0              0              0   \n",
       "\n",
       "   movie_id_3949  movie_id_3950  movie_id_3951  movie_id_3952  \n",
       "0              0              0              0              0  \n",
       "1              0              0              0              0  \n",
       "2              0              0              0              0  \n",
       "3              0              0              0              0  \n",
       "4              0              0              0              0  \n",
       "\n",
       "[5 rows x 3707 columns]"
      ]
     },
     "execution_count": 29,
     "metadata": {},
     "output_type": "execute_result"
    }
   ],
   "source": [
    "one_hot = one_hot[one_hot.columns.tolist()[-1:] + one_hot.columns.tolist()[:-1]]\n",
    "one_hot.head()"
   ]
  },
  {
   "cell_type": "code",
   "execution_count": 30,
   "metadata": {},
   "outputs": [],
   "source": [
    "grouped = one_hot.groupby(\"user_id\")"
   ]
  },
  {
   "cell_type": "code",
   "execution_count": 31,
   "metadata": {},
   "outputs": [],
   "source": [
    "exposure_model_data = pd.DataFrame(columns=one_hot.columns)"
   ]
  },
  {
   "cell_type": "code",
   "execution_count": 32,
   "metadata": {},
   "outputs": [
    {
     "name": "stderr",
     "output_type": "stream",
     "text": [
      "100%|██████████| 6040/6040 [33:00<00:00,  3.05it/s]\n"
     ]
    }
   ],
   "source": [
    "# grouping the one hot encoded user_id wise\n",
    "\n",
    "for i in tqdm(one_hot.user_id.unique().tolist()):\n",
    "    temp = pd.DataFrame(grouped.get_group(i).drop(\"user_id\", axis=1).sum()).T\n",
    "    temp[\"user_id\"] = i\n",
    "    temp = temp[temp.columns.tolist()[-1:] + temp.columns.tolist()[:-1]]\n",
    "    exposure_model_data = pd.concat([exposure_model_data, temp], ignore_index=True)"
   ]
  },
  {
   "cell_type": "code",
   "execution_count": 33,
   "metadata": {},
   "outputs": [
    {
     "data": {
      "text/html": [
       "<div>\n",
       "<style scoped>\n",
       "    .dataframe tbody tr th:only-of-type {\n",
       "        vertical-align: middle;\n",
       "    }\n",
       "\n",
       "    .dataframe tbody tr th {\n",
       "        vertical-align: top;\n",
       "    }\n",
       "\n",
       "    .dataframe thead th {\n",
       "        text-align: right;\n",
       "    }\n",
       "</style>\n",
       "<table border=\"1\" class=\"dataframe\">\n",
       "  <thead>\n",
       "    <tr style=\"text-align: right;\">\n",
       "      <th></th>\n",
       "      <th>user_id</th>\n",
       "      <th>movie_id_1</th>\n",
       "      <th>movie_id_2</th>\n",
       "      <th>movie_id_3</th>\n",
       "      <th>movie_id_4</th>\n",
       "      <th>movie_id_5</th>\n",
       "      <th>movie_id_6</th>\n",
       "      <th>movie_id_7</th>\n",
       "      <th>movie_id_8</th>\n",
       "      <th>movie_id_9</th>\n",
       "      <th>...</th>\n",
       "      <th>movie_id_3943</th>\n",
       "      <th>movie_id_3944</th>\n",
       "      <th>movie_id_3945</th>\n",
       "      <th>movie_id_3946</th>\n",
       "      <th>movie_id_3947</th>\n",
       "      <th>movie_id_3948</th>\n",
       "      <th>movie_id_3949</th>\n",
       "      <th>movie_id_3950</th>\n",
       "      <th>movie_id_3951</th>\n",
       "      <th>movie_id_3952</th>\n",
       "    </tr>\n",
       "  </thead>\n",
       "  <tbody>\n",
       "    <tr>\n",
       "      <td>0</td>\n",
       "      <td>1</td>\n",
       "      <td>1</td>\n",
       "      <td>0</td>\n",
       "      <td>0</td>\n",
       "      <td>0</td>\n",
       "      <td>0</td>\n",
       "      <td>0</td>\n",
       "      <td>0</td>\n",
       "      <td>0</td>\n",
       "      <td>0</td>\n",
       "      <td>...</td>\n",
       "      <td>0</td>\n",
       "      <td>0</td>\n",
       "      <td>0</td>\n",
       "      <td>0</td>\n",
       "      <td>0</td>\n",
       "      <td>0</td>\n",
       "      <td>0</td>\n",
       "      <td>0</td>\n",
       "      <td>0</td>\n",
       "      <td>0</td>\n",
       "    </tr>\n",
       "    <tr>\n",
       "      <td>1</td>\n",
       "      <td>2</td>\n",
       "      <td>0</td>\n",
       "      <td>0</td>\n",
       "      <td>0</td>\n",
       "      <td>0</td>\n",
       "      <td>0</td>\n",
       "      <td>0</td>\n",
       "      <td>0</td>\n",
       "      <td>0</td>\n",
       "      <td>0</td>\n",
       "      <td>...</td>\n",
       "      <td>0</td>\n",
       "      <td>0</td>\n",
       "      <td>0</td>\n",
       "      <td>0</td>\n",
       "      <td>0</td>\n",
       "      <td>0</td>\n",
       "      <td>0</td>\n",
       "      <td>0</td>\n",
       "      <td>0</td>\n",
       "      <td>0</td>\n",
       "    </tr>\n",
       "    <tr>\n",
       "      <td>2</td>\n",
       "      <td>3</td>\n",
       "      <td>0</td>\n",
       "      <td>0</td>\n",
       "      <td>0</td>\n",
       "      <td>0</td>\n",
       "      <td>0</td>\n",
       "      <td>0</td>\n",
       "      <td>0</td>\n",
       "      <td>0</td>\n",
       "      <td>0</td>\n",
       "      <td>...</td>\n",
       "      <td>0</td>\n",
       "      <td>0</td>\n",
       "      <td>0</td>\n",
       "      <td>0</td>\n",
       "      <td>0</td>\n",
       "      <td>0</td>\n",
       "      <td>0</td>\n",
       "      <td>0</td>\n",
       "      <td>0</td>\n",
       "      <td>0</td>\n",
       "    </tr>\n",
       "    <tr>\n",
       "      <td>3</td>\n",
       "      <td>4</td>\n",
       "      <td>0</td>\n",
       "      <td>0</td>\n",
       "      <td>0</td>\n",
       "      <td>0</td>\n",
       "      <td>0</td>\n",
       "      <td>0</td>\n",
       "      <td>0</td>\n",
       "      <td>0</td>\n",
       "      <td>0</td>\n",
       "      <td>...</td>\n",
       "      <td>0</td>\n",
       "      <td>0</td>\n",
       "      <td>0</td>\n",
       "      <td>0</td>\n",
       "      <td>0</td>\n",
       "      <td>0</td>\n",
       "      <td>0</td>\n",
       "      <td>0</td>\n",
       "      <td>0</td>\n",
       "      <td>0</td>\n",
       "    </tr>\n",
       "    <tr>\n",
       "      <td>4</td>\n",
       "      <td>5</td>\n",
       "      <td>0</td>\n",
       "      <td>0</td>\n",
       "      <td>0</td>\n",
       "      <td>0</td>\n",
       "      <td>0</td>\n",
       "      <td>1</td>\n",
       "      <td>0</td>\n",
       "      <td>0</td>\n",
       "      <td>0</td>\n",
       "      <td>...</td>\n",
       "      <td>0</td>\n",
       "      <td>0</td>\n",
       "      <td>0</td>\n",
       "      <td>0</td>\n",
       "      <td>0</td>\n",
       "      <td>0</td>\n",
       "      <td>0</td>\n",
       "      <td>0</td>\n",
       "      <td>0</td>\n",
       "      <td>0</td>\n",
       "    </tr>\n",
       "  </tbody>\n",
       "</table>\n",
       "<p>5 rows × 3707 columns</p>\n",
       "</div>"
      ],
      "text/plain": [
       "  user_id movie_id_1 movie_id_2 movie_id_3 movie_id_4 movie_id_5 movie_id_6  \\\n",
       "0       1          1          0          0          0          0          0   \n",
       "1       2          0          0          0          0          0          0   \n",
       "2       3          0          0          0          0          0          0   \n",
       "3       4          0          0          0          0          0          0   \n",
       "4       5          0          0          0          0          0          1   \n",
       "\n",
       "  movie_id_7 movie_id_8 movie_id_9  ... movie_id_3943 movie_id_3944  \\\n",
       "0          0          0          0  ...             0             0   \n",
       "1          0          0          0  ...             0             0   \n",
       "2          0          0          0  ...             0             0   \n",
       "3          0          0          0  ...             0             0   \n",
       "4          0          0          0  ...             0             0   \n",
       "\n",
       "  movie_id_3945 movie_id_3946 movie_id_3947 movie_id_3948 movie_id_3949  \\\n",
       "0             0             0             0             0             0   \n",
       "1             0             0             0             0             0   \n",
       "2             0             0             0             0             0   \n",
       "3             0             0             0             0             0   \n",
       "4             0             0             0             0             0   \n",
       "\n",
       "  movie_id_3950 movie_id_3951 movie_id_3952  \n",
       "0             0             0             0  \n",
       "1             0             0             0  \n",
       "2             0             0             0  \n",
       "3             0             0             0  \n",
       "4             0             0             0  \n",
       "\n",
       "[5 rows x 3707 columns]"
      ]
     },
     "execution_count": 33,
     "metadata": {},
     "output_type": "execute_result"
    }
   ],
   "source": [
    "exposure_model_data.head()"
   ]
  },
  {
   "cell_type": "code",
   "execution_count": 34,
   "metadata": {},
   "outputs": [
    {
     "data": {
      "text/plain": [
       "(6040, 3707)"
      ]
     },
     "execution_count": 34,
     "metadata": {},
     "output_type": "execute_result"
    }
   ],
   "source": [
    "exposure_model_data.shape"
   ]
  },
  {
   "cell_type": "code",
   "execution_count": 35,
   "metadata": {},
   "outputs": [],
   "source": [
    "# Uncomment only when exposure model data write to csv is needed\n",
    "\n",
    "#exposure_model_data.to_csv(\"data/preprocess_data/preproc_1m_exposure_data.csv\", index=False)"
   ]
  },
  {
   "cell_type": "markdown",
   "metadata": {},
   "source": [
    "# 100% data -- 100k -- rating model data"
   ]
  },
  {
   "cell_type": "code",
   "execution_count": null,
   "metadata": {},
   "outputs": [],
   "source": [
    "data_100k = pd.read_csv('data/user_data/ml_100k_user_data.csv')"
   ]
  },
  {
   "cell_type": "code",
   "execution_count": null,
   "metadata": {},
   "outputs": [],
   "source": [
    "one_hot = pd.get_dummies(data_100k.movie_id, prefix=\"movie_id\", dtype=np.uint8)"
   ]
  },
  {
   "cell_type": "code",
   "execution_count": null,
   "metadata": {},
   "outputs": [],
   "source": [
    "one_hot[\"user_id\"] = data_100k.user_id\n",
    "one_hot[\"rating\"] = data_100k.rating"
   ]
  },
  {
   "cell_type": "code",
   "execution_count": null,
   "metadata": {},
   "outputs": [],
   "source": [
    "cols = one_hot.columns.tolist()\n",
    "cols = cols[-2:] + cols[:-2]\n",
    "one_hot = one_hot[cols]\n",
    "one_hot.head()"
   ]
  },
  {
   "cell_type": "code",
   "execution_count": null,
   "metadata": {},
   "outputs": [],
   "source": [
    "one_hot.shape"
   ]
  },
  {
   "cell_type": "code",
   "execution_count": null,
   "metadata": {},
   "outputs": [],
   "source": [
    "for i in range(one_hot.shape[0]):\n",
    "    for j in range(1, 1683):\n",
    "        if one_hot[\"movie_id_\"+str(j)][i] == 1:\n",
    "            one_hot[\"movie_id_\"+str(j)][i] = one_hot[\"rating\"][i]\n",
    "            \n",
    "#for col in tqdm(one_hot.columns.to_list()[:-1]):\n",
    "#    one_hot[col] = np.multiply(one_hot.rating, one_hot[col])"
   ]
  },
  {
   "cell_type": "code",
   "execution_count": null,
   "metadata": {},
   "outputs": [],
   "source": [
    "one_hot = one_hot.drop(['rating'], axis=1)\n",
    "one_hot.head()"
   ]
  },
  {
   "cell_type": "code",
   "execution_count": null,
   "metadata": {},
   "outputs": [],
   "source": [
    "unique_user_id = one_hot.user_id.unique().tolist()"
   ]
  },
  {
   "cell_type": "code",
   "execution_count": null,
   "metadata": {},
   "outputs": [],
   "source": [
    "grouped = one_hot.groupby(\"user_id\")"
   ]
  },
  {
   "cell_type": "code",
   "execution_count": null,
   "metadata": {},
   "outputs": [],
   "source": [
    "rating_model_data = pd.DataFrame(columns=one_hot.columns)"
   ]
  },
  {
   "cell_type": "code",
   "execution_count": null,
   "metadata": {},
   "outputs": [],
   "source": [
    "for i in unique_user_id:\n",
    "    temp = pd.DataFrame(grouped.get_group(i).drop(\"user_id\", axis=1).sum()).T\n",
    "    temp[\"user_id\"] = i\n",
    "    t_cols = temp.columns.tolist()\n",
    "    t_cols = t_cols[-1:] + t_cols[:-1]\n",
    "    temp = temp[t_cols]\n",
    "    rating_model_data = pd.concat([rating_model_data, temp], ignore_index=True)"
   ]
  },
  {
   "cell_type": "code",
   "execution_count": null,
   "metadata": {},
   "outputs": [],
   "source": [
    "rating_model_data.shape"
   ]
  },
  {
   "cell_type": "code",
   "execution_count": null,
   "metadata": {},
   "outputs": [],
   "source": [
    "# Do not uncomment unless you want to write the rating model data again to the csv\n",
    "\n",
    "# rating_model_data.to_csv(\"data/preprocess_data/preproc_100k_rating_data.csv\", index=False)"
   ]
  },
  {
   "cell_type": "markdown",
   "metadata": {},
   "source": [
    "# 80 - 20 split -- 100k data -- rating model data "
   ]
  },
  {
   "cell_type": "code",
   "execution_count": 30,
   "metadata": {},
   "outputs": [],
   "source": [
    "df = pd.read_csv(\"data/user_data/ml_100k_user_data.csv\")"
   ]
  },
  {
   "cell_type": "code",
   "execution_count": 31,
   "metadata": {},
   "outputs": [],
   "source": [
    "movie_col_list = [\"movie_id_\"+str(i) for i in df.movie_id.unique()]"
   ]
  },
  {
   "cell_type": "code",
   "execution_count": 32,
   "metadata": {},
   "outputs": [],
   "source": [
    "y = df.rating\n",
    "X = df.drop([\"rating\"], axis=1)"
   ]
  },
  {
   "cell_type": "code",
   "execution_count": 33,
   "metadata": {},
   "outputs": [],
   "source": [
    "del df"
   ]
  },
  {
   "cell_type": "code",
   "execution_count": 34,
   "metadata": {},
   "outputs": [],
   "source": [
    "X_train, X_test, y_train, y_test = train_test_split(X, y, test_size=0.2, random_state=42)"
   ]
  },
  {
   "cell_type": "code",
   "execution_count": 35,
   "metadata": {},
   "outputs": [
    {
     "name": "stderr",
     "output_type": "stream",
     "text": [
      "/home/agni-ubuntu/anaconda3/lib/python3.7/site-packages/ipykernel_launcher.py:1: SettingWithCopyWarning: \n",
      "A value is trying to be set on a copy of a slice from a DataFrame.\n",
      "Try using .loc[row_indexer,col_indexer] = value instead\n",
      "\n",
      "See the caveats in the documentation: https://pandas.pydata.org/pandas-docs/stable/user_guide/indexing.html#returning-a-view-versus-a-copy\n",
      "  \"\"\"Entry point for launching an IPython kernel.\n",
      "/home/agni-ubuntu/anaconda3/lib/python3.7/site-packages/ipykernel_launcher.py:2: SettingWithCopyWarning: \n",
      "A value is trying to be set on a copy of a slice from a DataFrame.\n",
      "Try using .loc[row_indexer,col_indexer] = value instead\n",
      "\n",
      "See the caveats in the documentation: https://pandas.pydata.org/pandas-docs/stable/user_guide/indexing.html#returning-a-view-versus-a-copy\n",
      "  \n"
     ]
    }
   ],
   "source": [
    "X_train['rating'] = y_train\n",
    "X_test['rating'] = y_test"
   ]
  },
  {
   "cell_type": "code",
   "execution_count": 36,
   "metadata": {},
   "outputs": [
    {
     "name": "stderr",
     "output_type": "stream",
     "text": [
      "/home/agni-ubuntu/anaconda3/lib/python3.7/site-packages/pandas/core/generic.py:5168: SettingWithCopyWarning: \n",
      "A value is trying to be set on a copy of a slice from a DataFrame.\n",
      "Try using .loc[row_indexer,col_indexer] = value instead\n",
      "\n",
      "See the caveats in the documentation: https://pandas.pydata.org/pandas-docs/stable/user_guide/indexing.html#returning-a-view-versus-a-copy\n",
      "  self[name] = value\n"
     ]
    }
   ],
   "source": [
    "X_train = shrink_df(X_train)\n",
    "X_test = shrink_df(X_test)"
   ]
  },
  {
   "cell_type": "code",
   "execution_count": 37,
   "metadata": {},
   "outputs": [],
   "source": [
    "one_hot_X_train = pd.get_dummies(X_train.movie_id, prefix=\"movie_id\", dtype=np.uint8)\n",
    "one_hot_X_test = pd.get_dummies(X_test.movie_id, prefix=\"movie_id\", dtype=np.uint8)"
   ]
  },
  {
   "cell_type": "code",
   "execution_count": 38,
   "metadata": {},
   "outputs": [],
   "source": [
    "one_hot_X_train[\"user_id\"] = X_train.user_id\n",
    "one_hot_X_train[\"rating\"] = X_train.rating"
   ]
  },
  {
   "cell_type": "code",
   "execution_count": 39,
   "metadata": {},
   "outputs": [],
   "source": [
    "one_hot_X_test[\"user_id\"] = X_test.user_id\n",
    "one_hot_X_test[\"rating\"] = X_test.rating"
   ]
  },
  {
   "cell_type": "code",
   "execution_count": 40,
   "metadata": {},
   "outputs": [
    {
     "data": {
      "text/html": [
       "<div>\n",
       "<style scoped>\n",
       "    .dataframe tbody tr th:only-of-type {\n",
       "        vertical-align: middle;\n",
       "    }\n",
       "\n",
       "    .dataframe tbody tr th {\n",
       "        vertical-align: top;\n",
       "    }\n",
       "\n",
       "    .dataframe thead th {\n",
       "        text-align: right;\n",
       "    }\n",
       "</style>\n",
       "<table border=\"1\" class=\"dataframe\">\n",
       "  <thead>\n",
       "    <tr style=\"text-align: right;\">\n",
       "      <th></th>\n",
       "      <th>user_id</th>\n",
       "      <th>rating</th>\n",
       "      <th>movie_id_1</th>\n",
       "      <th>movie_id_2</th>\n",
       "      <th>movie_id_3</th>\n",
       "      <th>movie_id_4</th>\n",
       "      <th>movie_id_5</th>\n",
       "      <th>movie_id_6</th>\n",
       "      <th>movie_id_7</th>\n",
       "      <th>movie_id_8</th>\n",
       "      <th>...</th>\n",
       "      <th>movie_id_1668</th>\n",
       "      <th>movie_id_1670</th>\n",
       "      <th>movie_id_1671</th>\n",
       "      <th>movie_id_1672</th>\n",
       "      <th>movie_id_1673</th>\n",
       "      <th>movie_id_1676</th>\n",
       "      <th>movie_id_1678</th>\n",
       "      <th>movie_id_1679</th>\n",
       "      <th>movie_id_1680</th>\n",
       "      <th>movie_id_1681</th>\n",
       "    </tr>\n",
       "  </thead>\n",
       "  <tbody>\n",
       "    <tr>\n",
       "      <th>75220</th>\n",
       "      <td>807</td>\n",
       "      <td>1</td>\n",
       "      <td>0</td>\n",
       "      <td>0</td>\n",
       "      <td>0</td>\n",
       "      <td>0</td>\n",
       "      <td>0</td>\n",
       "      <td>0</td>\n",
       "      <td>0</td>\n",
       "      <td>0</td>\n",
       "      <td>...</td>\n",
       "      <td>0</td>\n",
       "      <td>0</td>\n",
       "      <td>0</td>\n",
       "      <td>0</td>\n",
       "      <td>0</td>\n",
       "      <td>0</td>\n",
       "      <td>0</td>\n",
       "      <td>0</td>\n",
       "      <td>0</td>\n",
       "      <td>0</td>\n",
       "    </tr>\n",
       "    <tr>\n",
       "      <th>48955</th>\n",
       "      <td>474</td>\n",
       "      <td>5</td>\n",
       "      <td>0</td>\n",
       "      <td>0</td>\n",
       "      <td>0</td>\n",
       "      <td>0</td>\n",
       "      <td>0</td>\n",
       "      <td>0</td>\n",
       "      <td>0</td>\n",
       "      <td>0</td>\n",
       "      <td>...</td>\n",
       "      <td>0</td>\n",
       "      <td>0</td>\n",
       "      <td>0</td>\n",
       "      <td>0</td>\n",
       "      <td>0</td>\n",
       "      <td>0</td>\n",
       "      <td>0</td>\n",
       "      <td>0</td>\n",
       "      <td>0</td>\n",
       "      <td>0</td>\n",
       "    </tr>\n",
       "    <tr>\n",
       "      <th>44966</th>\n",
       "      <td>463</td>\n",
       "      <td>4</td>\n",
       "      <td>0</td>\n",
       "      <td>0</td>\n",
       "      <td>0</td>\n",
       "      <td>0</td>\n",
       "      <td>0</td>\n",
       "      <td>0</td>\n",
       "      <td>0</td>\n",
       "      <td>0</td>\n",
       "      <td>...</td>\n",
       "      <td>0</td>\n",
       "      <td>0</td>\n",
       "      <td>0</td>\n",
       "      <td>0</td>\n",
       "      <td>0</td>\n",
       "      <td>0</td>\n",
       "      <td>0</td>\n",
       "      <td>0</td>\n",
       "      <td>0</td>\n",
       "      <td>0</td>\n",
       "    </tr>\n",
       "    <tr>\n",
       "      <th>13568</th>\n",
       "      <td>139</td>\n",
       "      <td>4</td>\n",
       "      <td>0</td>\n",
       "      <td>0</td>\n",
       "      <td>0</td>\n",
       "      <td>0</td>\n",
       "      <td>0</td>\n",
       "      <td>0</td>\n",
       "      <td>0</td>\n",
       "      <td>0</td>\n",
       "      <td>...</td>\n",
       "      <td>0</td>\n",
       "      <td>0</td>\n",
       "      <td>0</td>\n",
       "      <td>0</td>\n",
       "      <td>0</td>\n",
       "      <td>0</td>\n",
       "      <td>0</td>\n",
       "      <td>0</td>\n",
       "      <td>0</td>\n",
       "      <td>0</td>\n",
       "    </tr>\n",
       "    <tr>\n",
       "      <th>92727</th>\n",
       "      <td>621</td>\n",
       "      <td>4</td>\n",
       "      <td>0</td>\n",
       "      <td>0</td>\n",
       "      <td>0</td>\n",
       "      <td>0</td>\n",
       "      <td>0</td>\n",
       "      <td>0</td>\n",
       "      <td>0</td>\n",
       "      <td>0</td>\n",
       "      <td>...</td>\n",
       "      <td>0</td>\n",
       "      <td>0</td>\n",
       "      <td>0</td>\n",
       "      <td>0</td>\n",
       "      <td>0</td>\n",
       "      <td>0</td>\n",
       "      <td>0</td>\n",
       "      <td>0</td>\n",
       "      <td>0</td>\n",
       "      <td>0</td>\n",
       "    </tr>\n",
       "  </tbody>\n",
       "</table>\n",
       "<p>5 rows × 1655 columns</p>\n",
       "</div>"
      ],
      "text/plain": [
       "       user_id  rating  movie_id_1  movie_id_2  movie_id_3  movie_id_4  \\\n",
       "75220      807       1           0           0           0           0   \n",
       "48955      474       5           0           0           0           0   \n",
       "44966      463       4           0           0           0           0   \n",
       "13568      139       4           0           0           0           0   \n",
       "92727      621       4           0           0           0           0   \n",
       "\n",
       "       movie_id_5  movie_id_6  movie_id_7  movie_id_8  ...  movie_id_1668  \\\n",
       "75220           0           0           0           0  ...              0   \n",
       "48955           0           0           0           0  ...              0   \n",
       "44966           0           0           0           0  ...              0   \n",
       "13568           0           0           0           0  ...              0   \n",
       "92727           0           0           0           0  ...              0   \n",
       "\n",
       "       movie_id_1670  movie_id_1671  movie_id_1672  movie_id_1673  \\\n",
       "75220              0              0              0              0   \n",
       "48955              0              0              0              0   \n",
       "44966              0              0              0              0   \n",
       "13568              0              0              0              0   \n",
       "92727              0              0              0              0   \n",
       "\n",
       "       movie_id_1676  movie_id_1678  movie_id_1679  movie_id_1680  \\\n",
       "75220              0              0              0              0   \n",
       "48955              0              0              0              0   \n",
       "44966              0              0              0              0   \n",
       "13568              0              0              0              0   \n",
       "92727              0              0              0              0   \n",
       "\n",
       "       movie_id_1681  \n",
       "75220              0  \n",
       "48955              0  \n",
       "44966              0  \n",
       "13568              0  \n",
       "92727              0  \n",
       "\n",
       "[5 rows x 1655 columns]"
      ]
     },
     "execution_count": 40,
     "metadata": {},
     "output_type": "execute_result"
    }
   ],
   "source": [
    "cols = one_hot_X_train.columns.tolist()\n",
    "cols = cols[-2:] + cols[:-2]\n",
    "one_hot_X_train = one_hot_X_train[cols]\n",
    "one_hot_X_train.head()"
   ]
  },
  {
   "cell_type": "code",
   "execution_count": 41,
   "metadata": {},
   "outputs": [
    {
     "data": {
      "text/html": [
       "<div>\n",
       "<style scoped>\n",
       "    .dataframe tbody tr th:only-of-type {\n",
       "        vertical-align: middle;\n",
       "    }\n",
       "\n",
       "    .dataframe tbody tr th {\n",
       "        vertical-align: top;\n",
       "    }\n",
       "\n",
       "    .dataframe thead th {\n",
       "        text-align: right;\n",
       "    }\n",
       "</style>\n",
       "<table border=\"1\" class=\"dataframe\">\n",
       "  <thead>\n",
       "    <tr style=\"text-align: right;\">\n",
       "      <th></th>\n",
       "      <th>user_id</th>\n",
       "      <th>rating</th>\n",
       "      <th>movie_id_1</th>\n",
       "      <th>movie_id_2</th>\n",
       "      <th>movie_id_3</th>\n",
       "      <th>movie_id_4</th>\n",
       "      <th>movie_id_5</th>\n",
       "      <th>movie_id_6</th>\n",
       "      <th>movie_id_7</th>\n",
       "      <th>movie_id_8</th>\n",
       "      <th>...</th>\n",
       "      <th>movie_id_1648</th>\n",
       "      <th>movie_id_1649</th>\n",
       "      <th>movie_id_1655</th>\n",
       "      <th>movie_id_1656</th>\n",
       "      <th>movie_id_1658</th>\n",
       "      <th>movie_id_1669</th>\n",
       "      <th>movie_id_1674</th>\n",
       "      <th>movie_id_1675</th>\n",
       "      <th>movie_id_1677</th>\n",
       "      <th>movie_id_1682</th>\n",
       "    </tr>\n",
       "  </thead>\n",
       "  <tbody>\n",
       "    <tr>\n",
       "      <th>75721</th>\n",
       "      <td>877</td>\n",
       "      <td>4</td>\n",
       "      <td>0</td>\n",
       "      <td>0</td>\n",
       "      <td>0</td>\n",
       "      <td>0</td>\n",
       "      <td>0</td>\n",
       "      <td>0</td>\n",
       "      <td>0</td>\n",
       "      <td>0</td>\n",
       "      <td>...</td>\n",
       "      <td>0</td>\n",
       "      <td>0</td>\n",
       "      <td>0</td>\n",
       "      <td>0</td>\n",
       "      <td>0</td>\n",
       "      <td>0</td>\n",
       "      <td>0</td>\n",
       "      <td>0</td>\n",
       "      <td>0</td>\n",
       "      <td>0</td>\n",
       "    </tr>\n",
       "    <tr>\n",
       "      <th>80184</th>\n",
       "      <td>815</td>\n",
       "      <td>3</td>\n",
       "      <td>0</td>\n",
       "      <td>0</td>\n",
       "      <td>0</td>\n",
       "      <td>0</td>\n",
       "      <td>0</td>\n",
       "      <td>0</td>\n",
       "      <td>0</td>\n",
       "      <td>0</td>\n",
       "      <td>...</td>\n",
       "      <td>0</td>\n",
       "      <td>0</td>\n",
       "      <td>0</td>\n",
       "      <td>0</td>\n",
       "      <td>0</td>\n",
       "      <td>0</td>\n",
       "      <td>0</td>\n",
       "      <td>0</td>\n",
       "      <td>0</td>\n",
       "      <td>0</td>\n",
       "    </tr>\n",
       "    <tr>\n",
       "      <th>19864</th>\n",
       "      <td>94</td>\n",
       "      <td>4</td>\n",
       "      <td>0</td>\n",
       "      <td>0</td>\n",
       "      <td>0</td>\n",
       "      <td>0</td>\n",
       "      <td>0</td>\n",
       "      <td>0</td>\n",
       "      <td>0</td>\n",
       "      <td>0</td>\n",
       "      <td>...</td>\n",
       "      <td>0</td>\n",
       "      <td>0</td>\n",
       "      <td>0</td>\n",
       "      <td>0</td>\n",
       "      <td>0</td>\n",
       "      <td>0</td>\n",
       "      <td>0</td>\n",
       "      <td>0</td>\n",
       "      <td>0</td>\n",
       "      <td>0</td>\n",
       "    </tr>\n",
       "    <tr>\n",
       "      <th>76699</th>\n",
       "      <td>416</td>\n",
       "      <td>2</td>\n",
       "      <td>0</td>\n",
       "      <td>0</td>\n",
       "      <td>0</td>\n",
       "      <td>0</td>\n",
       "      <td>0</td>\n",
       "      <td>0</td>\n",
       "      <td>0</td>\n",
       "      <td>0</td>\n",
       "      <td>...</td>\n",
       "      <td>0</td>\n",
       "      <td>0</td>\n",
       "      <td>0</td>\n",
       "      <td>0</td>\n",
       "      <td>0</td>\n",
       "      <td>0</td>\n",
       "      <td>0</td>\n",
       "      <td>0</td>\n",
       "      <td>0</td>\n",
       "      <td>0</td>\n",
       "    </tr>\n",
       "    <tr>\n",
       "      <th>92991</th>\n",
       "      <td>500</td>\n",
       "      <td>2</td>\n",
       "      <td>0</td>\n",
       "      <td>0</td>\n",
       "      <td>0</td>\n",
       "      <td>0</td>\n",
       "      <td>0</td>\n",
       "      <td>0</td>\n",
       "      <td>0</td>\n",
       "      <td>0</td>\n",
       "      <td>...</td>\n",
       "      <td>0</td>\n",
       "      <td>0</td>\n",
       "      <td>0</td>\n",
       "      <td>0</td>\n",
       "      <td>0</td>\n",
       "      <td>0</td>\n",
       "      <td>0</td>\n",
       "      <td>0</td>\n",
       "      <td>0</td>\n",
       "      <td>0</td>\n",
       "    </tr>\n",
       "  </tbody>\n",
       "</table>\n",
       "<p>5 rows × 1413 columns</p>\n",
       "</div>"
      ],
      "text/plain": [
       "       user_id  rating  movie_id_1  movie_id_2  movie_id_3  movie_id_4  \\\n",
       "75721      877       4           0           0           0           0   \n",
       "80184      815       3           0           0           0           0   \n",
       "19864       94       4           0           0           0           0   \n",
       "76699      416       2           0           0           0           0   \n",
       "92991      500       2           0           0           0           0   \n",
       "\n",
       "       movie_id_5  movie_id_6  movie_id_7  movie_id_8  ...  movie_id_1648  \\\n",
       "75721           0           0           0           0  ...              0   \n",
       "80184           0           0           0           0  ...              0   \n",
       "19864           0           0           0           0  ...              0   \n",
       "76699           0           0           0           0  ...              0   \n",
       "92991           0           0           0           0  ...              0   \n",
       "\n",
       "       movie_id_1649  movie_id_1655  movie_id_1656  movie_id_1658  \\\n",
       "75721              0              0              0              0   \n",
       "80184              0              0              0              0   \n",
       "19864              0              0              0              0   \n",
       "76699              0              0              0              0   \n",
       "92991              0              0              0              0   \n",
       "\n",
       "       movie_id_1669  movie_id_1674  movie_id_1675  movie_id_1677  \\\n",
       "75721              0              0              0              0   \n",
       "80184              0              0              0              0   \n",
       "19864              0              0              0              0   \n",
       "76699              0              0              0              0   \n",
       "92991              0              0              0              0   \n",
       "\n",
       "       movie_id_1682  \n",
       "75721              0  \n",
       "80184              0  \n",
       "19864              0  \n",
       "76699              0  \n",
       "92991              0  \n",
       "\n",
       "[5 rows x 1413 columns]"
      ]
     },
     "execution_count": 41,
     "metadata": {},
     "output_type": "execute_result"
    }
   ],
   "source": [
    "cols = one_hot_X_test.columns.tolist()\n",
    "cols = cols[-2:] + cols[:-2]\n",
    "one_hot_X_test = one_hot_X_test[cols]\n",
    "one_hot_X_test.head()"
   ]
  },
  {
   "cell_type": "code",
   "execution_count": 17,
   "metadata": {},
   "outputs": [],
   "source": [
    "missing_cols_train= list(set(movie_col_list) - set(one_hot_X_train.columns))\n",
    "missing_cols_test = list(set(movie_col_list) - set(one_hot_X_test.columns))"
   ]
  },
  {
   "cell_type": "code",
   "execution_count": 18,
   "metadata": {},
   "outputs": [],
   "source": [
    "for col in missing_cols_train:\n",
    "    one_hot_X_train[col] = np.zeros(len(one_hot_X_train.user_id), dtype=np.uint8)"
   ]
  },
  {
   "cell_type": "code",
   "execution_count": 19,
   "metadata": {},
   "outputs": [],
   "source": [
    "for col in missing_cols_test:\n",
    "    one_hot_X_test[col] = np.zeros(len(one_hot_X_test.user_id), dtype=np.uint8)"
   ]
  },
  {
   "cell_type": "code",
   "execution_count": 42,
   "metadata": {},
   "outputs": [
    {
     "name": "stderr",
     "output_type": "stream",
     "text": [
      "100%|██████████| 1653/1653 [00:00<00:00, 1932.45it/s]\n"
     ]
    }
   ],
   "source": [
    "for col in tqdm(one_hot_X_train.columns.to_list()[2:]):\n",
    "    one_hot_X_train[col] = np.multiply(one_hot_X_train.rating, one_hot_X_train[col])"
   ]
  },
  {
   "cell_type": "code",
   "execution_count": 43,
   "metadata": {},
   "outputs": [
    {
     "data": {
      "text/html": [
       "<div>\n",
       "<style scoped>\n",
       "    .dataframe tbody tr th:only-of-type {\n",
       "        vertical-align: middle;\n",
       "    }\n",
       "\n",
       "    .dataframe tbody tr th {\n",
       "        vertical-align: top;\n",
       "    }\n",
       "\n",
       "    .dataframe thead th {\n",
       "        text-align: right;\n",
       "    }\n",
       "</style>\n",
       "<table border=\"1\" class=\"dataframe\">\n",
       "  <thead>\n",
       "    <tr style=\"text-align: right;\">\n",
       "      <th></th>\n",
       "      <th>user_id</th>\n",
       "      <th>rating</th>\n",
       "      <th>movie_id_1</th>\n",
       "      <th>movie_id_2</th>\n",
       "      <th>movie_id_3</th>\n",
       "      <th>movie_id_4</th>\n",
       "      <th>movie_id_5</th>\n",
       "      <th>movie_id_6</th>\n",
       "      <th>movie_id_7</th>\n",
       "      <th>movie_id_8</th>\n",
       "      <th>...</th>\n",
       "      <th>movie_id_1668</th>\n",
       "      <th>movie_id_1670</th>\n",
       "      <th>movie_id_1671</th>\n",
       "      <th>movie_id_1672</th>\n",
       "      <th>movie_id_1673</th>\n",
       "      <th>movie_id_1676</th>\n",
       "      <th>movie_id_1678</th>\n",
       "      <th>movie_id_1679</th>\n",
       "      <th>movie_id_1680</th>\n",
       "      <th>movie_id_1681</th>\n",
       "    </tr>\n",
       "  </thead>\n",
       "  <tbody>\n",
       "    <tr>\n",
       "      <th>75220</th>\n",
       "      <td>807</td>\n",
       "      <td>1</td>\n",
       "      <td>0</td>\n",
       "      <td>0</td>\n",
       "      <td>0</td>\n",
       "      <td>0</td>\n",
       "      <td>0</td>\n",
       "      <td>0</td>\n",
       "      <td>0</td>\n",
       "      <td>0</td>\n",
       "      <td>...</td>\n",
       "      <td>0</td>\n",
       "      <td>0</td>\n",
       "      <td>0</td>\n",
       "      <td>0</td>\n",
       "      <td>0</td>\n",
       "      <td>0</td>\n",
       "      <td>0</td>\n",
       "      <td>0</td>\n",
       "      <td>0</td>\n",
       "      <td>0</td>\n",
       "    </tr>\n",
       "    <tr>\n",
       "      <th>48955</th>\n",
       "      <td>474</td>\n",
       "      <td>5</td>\n",
       "      <td>0</td>\n",
       "      <td>0</td>\n",
       "      <td>0</td>\n",
       "      <td>0</td>\n",
       "      <td>0</td>\n",
       "      <td>0</td>\n",
       "      <td>0</td>\n",
       "      <td>0</td>\n",
       "      <td>...</td>\n",
       "      <td>0</td>\n",
       "      <td>0</td>\n",
       "      <td>0</td>\n",
       "      <td>0</td>\n",
       "      <td>0</td>\n",
       "      <td>0</td>\n",
       "      <td>0</td>\n",
       "      <td>0</td>\n",
       "      <td>0</td>\n",
       "      <td>0</td>\n",
       "    </tr>\n",
       "    <tr>\n",
       "      <th>44966</th>\n",
       "      <td>463</td>\n",
       "      <td>4</td>\n",
       "      <td>0</td>\n",
       "      <td>0</td>\n",
       "      <td>0</td>\n",
       "      <td>0</td>\n",
       "      <td>0</td>\n",
       "      <td>0</td>\n",
       "      <td>0</td>\n",
       "      <td>0</td>\n",
       "      <td>...</td>\n",
       "      <td>0</td>\n",
       "      <td>0</td>\n",
       "      <td>0</td>\n",
       "      <td>0</td>\n",
       "      <td>0</td>\n",
       "      <td>0</td>\n",
       "      <td>0</td>\n",
       "      <td>0</td>\n",
       "      <td>0</td>\n",
       "      <td>0</td>\n",
       "    </tr>\n",
       "    <tr>\n",
       "      <th>13568</th>\n",
       "      <td>139</td>\n",
       "      <td>4</td>\n",
       "      <td>0</td>\n",
       "      <td>0</td>\n",
       "      <td>0</td>\n",
       "      <td>0</td>\n",
       "      <td>0</td>\n",
       "      <td>0</td>\n",
       "      <td>0</td>\n",
       "      <td>0</td>\n",
       "      <td>...</td>\n",
       "      <td>0</td>\n",
       "      <td>0</td>\n",
       "      <td>0</td>\n",
       "      <td>0</td>\n",
       "      <td>0</td>\n",
       "      <td>0</td>\n",
       "      <td>0</td>\n",
       "      <td>0</td>\n",
       "      <td>0</td>\n",
       "      <td>0</td>\n",
       "    </tr>\n",
       "    <tr>\n",
       "      <th>92727</th>\n",
       "      <td>621</td>\n",
       "      <td>4</td>\n",
       "      <td>0</td>\n",
       "      <td>0</td>\n",
       "      <td>0</td>\n",
       "      <td>0</td>\n",
       "      <td>0</td>\n",
       "      <td>0</td>\n",
       "      <td>0</td>\n",
       "      <td>0</td>\n",
       "      <td>...</td>\n",
       "      <td>0</td>\n",
       "      <td>0</td>\n",
       "      <td>0</td>\n",
       "      <td>0</td>\n",
       "      <td>0</td>\n",
       "      <td>0</td>\n",
       "      <td>0</td>\n",
       "      <td>0</td>\n",
       "      <td>0</td>\n",
       "      <td>0</td>\n",
       "    </tr>\n",
       "  </tbody>\n",
       "</table>\n",
       "<p>5 rows × 1655 columns</p>\n",
       "</div>"
      ],
      "text/plain": [
       "       user_id  rating  movie_id_1  movie_id_2  movie_id_3  movie_id_4  \\\n",
       "75220      807       1           0           0           0           0   \n",
       "48955      474       5           0           0           0           0   \n",
       "44966      463       4           0           0           0           0   \n",
       "13568      139       4           0           0           0           0   \n",
       "92727      621       4           0           0           0           0   \n",
       "\n",
       "       movie_id_5  movie_id_6  movie_id_7  movie_id_8  ...  movie_id_1668  \\\n",
       "75220           0           0           0           0  ...              0   \n",
       "48955           0           0           0           0  ...              0   \n",
       "44966           0           0           0           0  ...              0   \n",
       "13568           0           0           0           0  ...              0   \n",
       "92727           0           0           0           0  ...              0   \n",
       "\n",
       "       movie_id_1670  movie_id_1671  movie_id_1672  movie_id_1673  \\\n",
       "75220              0              0              0              0   \n",
       "48955              0              0              0              0   \n",
       "44966              0              0              0              0   \n",
       "13568              0              0              0              0   \n",
       "92727              0              0              0              0   \n",
       "\n",
       "       movie_id_1676  movie_id_1678  movie_id_1679  movie_id_1680  \\\n",
       "75220              0              0              0              0   \n",
       "48955              0              0              0              0   \n",
       "44966              0              0              0              0   \n",
       "13568              0              0              0              0   \n",
       "92727              0              0              0              0   \n",
       "\n",
       "       movie_id_1681  \n",
       "75220              0  \n",
       "48955              0  \n",
       "44966              0  \n",
       "13568              0  \n",
       "92727              0  \n",
       "\n",
       "[5 rows x 1655 columns]"
      ]
     },
     "execution_count": 43,
     "metadata": {},
     "output_type": "execute_result"
    }
   ],
   "source": [
    "one_hot_X_train.head()"
   ]
  },
  {
   "cell_type": "code",
   "execution_count": 44,
   "metadata": {},
   "outputs": [
    {
     "name": "stderr",
     "output_type": "stream",
     "text": [
      "100%|██████████| 1411/1411 [00:00<00:00, 2959.63it/s]\n"
     ]
    }
   ],
   "source": [
    "for col in tqdm(one_hot_X_test.columns.to_list()[2:]):\n",
    "    one_hot_X_test[col] = np.multiply(one_hot_X_test.rating, one_hot_X_test[col])"
   ]
  },
  {
   "cell_type": "code",
   "execution_count": 45,
   "metadata": {},
   "outputs": [
    {
     "data": {
      "text/html": [
       "<div>\n",
       "<style scoped>\n",
       "    .dataframe tbody tr th:only-of-type {\n",
       "        vertical-align: middle;\n",
       "    }\n",
       "\n",
       "    .dataframe tbody tr th {\n",
       "        vertical-align: top;\n",
       "    }\n",
       "\n",
       "    .dataframe thead th {\n",
       "        text-align: right;\n",
       "    }\n",
       "</style>\n",
       "<table border=\"1\" class=\"dataframe\">\n",
       "  <thead>\n",
       "    <tr style=\"text-align: right;\">\n",
       "      <th></th>\n",
       "      <th>user_id</th>\n",
       "      <th>rating</th>\n",
       "      <th>movie_id_1</th>\n",
       "      <th>movie_id_2</th>\n",
       "      <th>movie_id_3</th>\n",
       "      <th>movie_id_4</th>\n",
       "      <th>movie_id_5</th>\n",
       "      <th>movie_id_6</th>\n",
       "      <th>movie_id_7</th>\n",
       "      <th>movie_id_8</th>\n",
       "      <th>...</th>\n",
       "      <th>movie_id_1648</th>\n",
       "      <th>movie_id_1649</th>\n",
       "      <th>movie_id_1655</th>\n",
       "      <th>movie_id_1656</th>\n",
       "      <th>movie_id_1658</th>\n",
       "      <th>movie_id_1669</th>\n",
       "      <th>movie_id_1674</th>\n",
       "      <th>movie_id_1675</th>\n",
       "      <th>movie_id_1677</th>\n",
       "      <th>movie_id_1682</th>\n",
       "    </tr>\n",
       "  </thead>\n",
       "  <tbody>\n",
       "    <tr>\n",
       "      <th>75721</th>\n",
       "      <td>877</td>\n",
       "      <td>4</td>\n",
       "      <td>0</td>\n",
       "      <td>0</td>\n",
       "      <td>0</td>\n",
       "      <td>0</td>\n",
       "      <td>0</td>\n",
       "      <td>0</td>\n",
       "      <td>0</td>\n",
       "      <td>0</td>\n",
       "      <td>...</td>\n",
       "      <td>0</td>\n",
       "      <td>0</td>\n",
       "      <td>0</td>\n",
       "      <td>0</td>\n",
       "      <td>0</td>\n",
       "      <td>0</td>\n",
       "      <td>0</td>\n",
       "      <td>0</td>\n",
       "      <td>0</td>\n",
       "      <td>0</td>\n",
       "    </tr>\n",
       "    <tr>\n",
       "      <th>80184</th>\n",
       "      <td>815</td>\n",
       "      <td>3</td>\n",
       "      <td>0</td>\n",
       "      <td>0</td>\n",
       "      <td>0</td>\n",
       "      <td>0</td>\n",
       "      <td>0</td>\n",
       "      <td>0</td>\n",
       "      <td>0</td>\n",
       "      <td>0</td>\n",
       "      <td>...</td>\n",
       "      <td>0</td>\n",
       "      <td>0</td>\n",
       "      <td>0</td>\n",
       "      <td>0</td>\n",
       "      <td>0</td>\n",
       "      <td>0</td>\n",
       "      <td>0</td>\n",
       "      <td>0</td>\n",
       "      <td>0</td>\n",
       "      <td>0</td>\n",
       "    </tr>\n",
       "    <tr>\n",
       "      <th>19864</th>\n",
       "      <td>94</td>\n",
       "      <td>4</td>\n",
       "      <td>0</td>\n",
       "      <td>0</td>\n",
       "      <td>0</td>\n",
       "      <td>0</td>\n",
       "      <td>0</td>\n",
       "      <td>0</td>\n",
       "      <td>0</td>\n",
       "      <td>0</td>\n",
       "      <td>...</td>\n",
       "      <td>0</td>\n",
       "      <td>0</td>\n",
       "      <td>0</td>\n",
       "      <td>0</td>\n",
       "      <td>0</td>\n",
       "      <td>0</td>\n",
       "      <td>0</td>\n",
       "      <td>0</td>\n",
       "      <td>0</td>\n",
       "      <td>0</td>\n",
       "    </tr>\n",
       "    <tr>\n",
       "      <th>76699</th>\n",
       "      <td>416</td>\n",
       "      <td>2</td>\n",
       "      <td>0</td>\n",
       "      <td>0</td>\n",
       "      <td>0</td>\n",
       "      <td>0</td>\n",
       "      <td>0</td>\n",
       "      <td>0</td>\n",
       "      <td>0</td>\n",
       "      <td>0</td>\n",
       "      <td>...</td>\n",
       "      <td>0</td>\n",
       "      <td>0</td>\n",
       "      <td>0</td>\n",
       "      <td>0</td>\n",
       "      <td>0</td>\n",
       "      <td>0</td>\n",
       "      <td>0</td>\n",
       "      <td>0</td>\n",
       "      <td>0</td>\n",
       "      <td>0</td>\n",
       "    </tr>\n",
       "    <tr>\n",
       "      <th>92991</th>\n",
       "      <td>500</td>\n",
       "      <td>2</td>\n",
       "      <td>0</td>\n",
       "      <td>0</td>\n",
       "      <td>0</td>\n",
       "      <td>0</td>\n",
       "      <td>0</td>\n",
       "      <td>0</td>\n",
       "      <td>0</td>\n",
       "      <td>0</td>\n",
       "      <td>...</td>\n",
       "      <td>0</td>\n",
       "      <td>0</td>\n",
       "      <td>0</td>\n",
       "      <td>0</td>\n",
       "      <td>0</td>\n",
       "      <td>0</td>\n",
       "      <td>0</td>\n",
       "      <td>0</td>\n",
       "      <td>0</td>\n",
       "      <td>0</td>\n",
       "    </tr>\n",
       "  </tbody>\n",
       "</table>\n",
       "<p>5 rows × 1413 columns</p>\n",
       "</div>"
      ],
      "text/plain": [
       "       user_id  rating  movie_id_1  movie_id_2  movie_id_3  movie_id_4  \\\n",
       "75721      877       4           0           0           0           0   \n",
       "80184      815       3           0           0           0           0   \n",
       "19864       94       4           0           0           0           0   \n",
       "76699      416       2           0           0           0           0   \n",
       "92991      500       2           0           0           0           0   \n",
       "\n",
       "       movie_id_5  movie_id_6  movie_id_7  movie_id_8  ...  movie_id_1648  \\\n",
       "75721           0           0           0           0  ...              0   \n",
       "80184           0           0           0           0  ...              0   \n",
       "19864           0           0           0           0  ...              0   \n",
       "76699           0           0           0           0  ...              0   \n",
       "92991           0           0           0           0  ...              0   \n",
       "\n",
       "       movie_id_1649  movie_id_1655  movie_id_1656  movie_id_1658  \\\n",
       "75721              0              0              0              0   \n",
       "80184              0              0              0              0   \n",
       "19864              0              0              0              0   \n",
       "76699              0              0              0              0   \n",
       "92991              0              0              0              0   \n",
       "\n",
       "       movie_id_1669  movie_id_1674  movie_id_1675  movie_id_1677  \\\n",
       "75721              0              0              0              0   \n",
       "80184              0              0              0              0   \n",
       "19864              0              0              0              0   \n",
       "76699              0              0              0              0   \n",
       "92991              0              0              0              0   \n",
       "\n",
       "       movie_id_1682  \n",
       "75721              0  \n",
       "80184              0  \n",
       "19864              0  \n",
       "76699              0  \n",
       "92991              0  \n",
       "\n",
       "[5 rows x 1413 columns]"
      ]
     },
     "execution_count": 45,
     "metadata": {},
     "output_type": "execute_result"
    }
   ],
   "source": [
    "one_hot_X_test.head()"
   ]
  },
  {
   "cell_type": "code",
   "execution_count": 46,
   "metadata": {},
   "outputs": [
    {
     "data": {
      "text/html": [
       "<div>\n",
       "<style scoped>\n",
       "    .dataframe tbody tr th:only-of-type {\n",
       "        vertical-align: middle;\n",
       "    }\n",
       "\n",
       "    .dataframe tbody tr th {\n",
       "        vertical-align: top;\n",
       "    }\n",
       "\n",
       "    .dataframe thead th {\n",
       "        text-align: right;\n",
       "    }\n",
       "</style>\n",
       "<table border=\"1\" class=\"dataframe\">\n",
       "  <thead>\n",
       "    <tr style=\"text-align: right;\">\n",
       "      <th></th>\n",
       "      <th>user_id</th>\n",
       "      <th>movie_id_1</th>\n",
       "      <th>movie_id_2</th>\n",
       "      <th>movie_id_3</th>\n",
       "      <th>movie_id_4</th>\n",
       "      <th>movie_id_5</th>\n",
       "      <th>movie_id_6</th>\n",
       "      <th>movie_id_7</th>\n",
       "      <th>movie_id_8</th>\n",
       "      <th>movie_id_9</th>\n",
       "      <th>...</th>\n",
       "      <th>movie_id_1668</th>\n",
       "      <th>movie_id_1670</th>\n",
       "      <th>movie_id_1671</th>\n",
       "      <th>movie_id_1672</th>\n",
       "      <th>movie_id_1673</th>\n",
       "      <th>movie_id_1676</th>\n",
       "      <th>movie_id_1678</th>\n",
       "      <th>movie_id_1679</th>\n",
       "      <th>movie_id_1680</th>\n",
       "      <th>movie_id_1681</th>\n",
       "    </tr>\n",
       "  </thead>\n",
       "  <tbody>\n",
       "    <tr>\n",
       "      <th>75220</th>\n",
       "      <td>807</td>\n",
       "      <td>0</td>\n",
       "      <td>0</td>\n",
       "      <td>0</td>\n",
       "      <td>0</td>\n",
       "      <td>0</td>\n",
       "      <td>0</td>\n",
       "      <td>0</td>\n",
       "      <td>0</td>\n",
       "      <td>0</td>\n",
       "      <td>...</td>\n",
       "      <td>0</td>\n",
       "      <td>0</td>\n",
       "      <td>0</td>\n",
       "      <td>0</td>\n",
       "      <td>0</td>\n",
       "      <td>0</td>\n",
       "      <td>0</td>\n",
       "      <td>0</td>\n",
       "      <td>0</td>\n",
       "      <td>0</td>\n",
       "    </tr>\n",
       "    <tr>\n",
       "      <th>48955</th>\n",
       "      <td>474</td>\n",
       "      <td>0</td>\n",
       "      <td>0</td>\n",
       "      <td>0</td>\n",
       "      <td>0</td>\n",
       "      <td>0</td>\n",
       "      <td>0</td>\n",
       "      <td>0</td>\n",
       "      <td>0</td>\n",
       "      <td>0</td>\n",
       "      <td>...</td>\n",
       "      <td>0</td>\n",
       "      <td>0</td>\n",
       "      <td>0</td>\n",
       "      <td>0</td>\n",
       "      <td>0</td>\n",
       "      <td>0</td>\n",
       "      <td>0</td>\n",
       "      <td>0</td>\n",
       "      <td>0</td>\n",
       "      <td>0</td>\n",
       "    </tr>\n",
       "    <tr>\n",
       "      <th>44966</th>\n",
       "      <td>463</td>\n",
       "      <td>0</td>\n",
       "      <td>0</td>\n",
       "      <td>0</td>\n",
       "      <td>0</td>\n",
       "      <td>0</td>\n",
       "      <td>0</td>\n",
       "      <td>0</td>\n",
       "      <td>0</td>\n",
       "      <td>0</td>\n",
       "      <td>...</td>\n",
       "      <td>0</td>\n",
       "      <td>0</td>\n",
       "      <td>0</td>\n",
       "      <td>0</td>\n",
       "      <td>0</td>\n",
       "      <td>0</td>\n",
       "      <td>0</td>\n",
       "      <td>0</td>\n",
       "      <td>0</td>\n",
       "      <td>0</td>\n",
       "    </tr>\n",
       "    <tr>\n",
       "      <th>13568</th>\n",
       "      <td>139</td>\n",
       "      <td>0</td>\n",
       "      <td>0</td>\n",
       "      <td>0</td>\n",
       "      <td>0</td>\n",
       "      <td>0</td>\n",
       "      <td>0</td>\n",
       "      <td>0</td>\n",
       "      <td>0</td>\n",
       "      <td>0</td>\n",
       "      <td>...</td>\n",
       "      <td>0</td>\n",
       "      <td>0</td>\n",
       "      <td>0</td>\n",
       "      <td>0</td>\n",
       "      <td>0</td>\n",
       "      <td>0</td>\n",
       "      <td>0</td>\n",
       "      <td>0</td>\n",
       "      <td>0</td>\n",
       "      <td>0</td>\n",
       "    </tr>\n",
       "    <tr>\n",
       "      <th>92727</th>\n",
       "      <td>621</td>\n",
       "      <td>0</td>\n",
       "      <td>0</td>\n",
       "      <td>0</td>\n",
       "      <td>0</td>\n",
       "      <td>0</td>\n",
       "      <td>0</td>\n",
       "      <td>0</td>\n",
       "      <td>0</td>\n",
       "      <td>0</td>\n",
       "      <td>...</td>\n",
       "      <td>0</td>\n",
       "      <td>0</td>\n",
       "      <td>0</td>\n",
       "      <td>0</td>\n",
       "      <td>0</td>\n",
       "      <td>0</td>\n",
       "      <td>0</td>\n",
       "      <td>0</td>\n",
       "      <td>0</td>\n",
       "      <td>0</td>\n",
       "    </tr>\n",
       "  </tbody>\n",
       "</table>\n",
       "<p>5 rows × 1654 columns</p>\n",
       "</div>"
      ],
      "text/plain": [
       "       user_id  movie_id_1  movie_id_2  movie_id_3  movie_id_4  movie_id_5  \\\n",
       "75220      807           0           0           0           0           0   \n",
       "48955      474           0           0           0           0           0   \n",
       "44966      463           0           0           0           0           0   \n",
       "13568      139           0           0           0           0           0   \n",
       "92727      621           0           0           0           0           0   \n",
       "\n",
       "       movie_id_6  movie_id_7  movie_id_8  movie_id_9  ...  movie_id_1668  \\\n",
       "75220           0           0           0           0  ...              0   \n",
       "48955           0           0           0           0  ...              0   \n",
       "44966           0           0           0           0  ...              0   \n",
       "13568           0           0           0           0  ...              0   \n",
       "92727           0           0           0           0  ...              0   \n",
       "\n",
       "       movie_id_1670  movie_id_1671  movie_id_1672  movie_id_1673  \\\n",
       "75220              0              0              0              0   \n",
       "48955              0              0              0              0   \n",
       "44966              0              0              0              0   \n",
       "13568              0              0              0              0   \n",
       "92727              0              0              0              0   \n",
       "\n",
       "       movie_id_1676  movie_id_1678  movie_id_1679  movie_id_1680  \\\n",
       "75220              0              0              0              0   \n",
       "48955              0              0              0              0   \n",
       "44966              0              0              0              0   \n",
       "13568              0              0              0              0   \n",
       "92727              0              0              0              0   \n",
       "\n",
       "       movie_id_1681  \n",
       "75220              0  \n",
       "48955              0  \n",
       "44966              0  \n",
       "13568              0  \n",
       "92727              0  \n",
       "\n",
       "[5 rows x 1654 columns]"
      ]
     },
     "execution_count": 46,
     "metadata": {},
     "output_type": "execute_result"
    }
   ],
   "source": [
    "one_hot_X_train = one_hot_X_train.drop(['rating'], axis=1)\n",
    "one_hot_X_train.head()"
   ]
  },
  {
   "cell_type": "code",
   "execution_count": 47,
   "metadata": {},
   "outputs": [
    {
     "data": {
      "text/html": [
       "<div>\n",
       "<style scoped>\n",
       "    .dataframe tbody tr th:only-of-type {\n",
       "        vertical-align: middle;\n",
       "    }\n",
       "\n",
       "    .dataframe tbody tr th {\n",
       "        vertical-align: top;\n",
       "    }\n",
       "\n",
       "    .dataframe thead th {\n",
       "        text-align: right;\n",
       "    }\n",
       "</style>\n",
       "<table border=\"1\" class=\"dataframe\">\n",
       "  <thead>\n",
       "    <tr style=\"text-align: right;\">\n",
       "      <th></th>\n",
       "      <th>user_id</th>\n",
       "      <th>movie_id_1</th>\n",
       "      <th>movie_id_2</th>\n",
       "      <th>movie_id_3</th>\n",
       "      <th>movie_id_4</th>\n",
       "      <th>movie_id_5</th>\n",
       "      <th>movie_id_6</th>\n",
       "      <th>movie_id_7</th>\n",
       "      <th>movie_id_8</th>\n",
       "      <th>movie_id_9</th>\n",
       "      <th>...</th>\n",
       "      <th>movie_id_1648</th>\n",
       "      <th>movie_id_1649</th>\n",
       "      <th>movie_id_1655</th>\n",
       "      <th>movie_id_1656</th>\n",
       "      <th>movie_id_1658</th>\n",
       "      <th>movie_id_1669</th>\n",
       "      <th>movie_id_1674</th>\n",
       "      <th>movie_id_1675</th>\n",
       "      <th>movie_id_1677</th>\n",
       "      <th>movie_id_1682</th>\n",
       "    </tr>\n",
       "  </thead>\n",
       "  <tbody>\n",
       "    <tr>\n",
       "      <th>75721</th>\n",
       "      <td>877</td>\n",
       "      <td>0</td>\n",
       "      <td>0</td>\n",
       "      <td>0</td>\n",
       "      <td>0</td>\n",
       "      <td>0</td>\n",
       "      <td>0</td>\n",
       "      <td>0</td>\n",
       "      <td>0</td>\n",
       "      <td>0</td>\n",
       "      <td>...</td>\n",
       "      <td>0</td>\n",
       "      <td>0</td>\n",
       "      <td>0</td>\n",
       "      <td>0</td>\n",
       "      <td>0</td>\n",
       "      <td>0</td>\n",
       "      <td>0</td>\n",
       "      <td>0</td>\n",
       "      <td>0</td>\n",
       "      <td>0</td>\n",
       "    </tr>\n",
       "    <tr>\n",
       "      <th>80184</th>\n",
       "      <td>815</td>\n",
       "      <td>0</td>\n",
       "      <td>0</td>\n",
       "      <td>0</td>\n",
       "      <td>0</td>\n",
       "      <td>0</td>\n",
       "      <td>0</td>\n",
       "      <td>0</td>\n",
       "      <td>0</td>\n",
       "      <td>0</td>\n",
       "      <td>...</td>\n",
       "      <td>0</td>\n",
       "      <td>0</td>\n",
       "      <td>0</td>\n",
       "      <td>0</td>\n",
       "      <td>0</td>\n",
       "      <td>0</td>\n",
       "      <td>0</td>\n",
       "      <td>0</td>\n",
       "      <td>0</td>\n",
       "      <td>0</td>\n",
       "    </tr>\n",
       "    <tr>\n",
       "      <th>19864</th>\n",
       "      <td>94</td>\n",
       "      <td>0</td>\n",
       "      <td>0</td>\n",
       "      <td>0</td>\n",
       "      <td>0</td>\n",
       "      <td>0</td>\n",
       "      <td>0</td>\n",
       "      <td>0</td>\n",
       "      <td>0</td>\n",
       "      <td>0</td>\n",
       "      <td>...</td>\n",
       "      <td>0</td>\n",
       "      <td>0</td>\n",
       "      <td>0</td>\n",
       "      <td>0</td>\n",
       "      <td>0</td>\n",
       "      <td>0</td>\n",
       "      <td>0</td>\n",
       "      <td>0</td>\n",
       "      <td>0</td>\n",
       "      <td>0</td>\n",
       "    </tr>\n",
       "    <tr>\n",
       "      <th>76699</th>\n",
       "      <td>416</td>\n",
       "      <td>0</td>\n",
       "      <td>0</td>\n",
       "      <td>0</td>\n",
       "      <td>0</td>\n",
       "      <td>0</td>\n",
       "      <td>0</td>\n",
       "      <td>0</td>\n",
       "      <td>0</td>\n",
       "      <td>0</td>\n",
       "      <td>...</td>\n",
       "      <td>0</td>\n",
       "      <td>0</td>\n",
       "      <td>0</td>\n",
       "      <td>0</td>\n",
       "      <td>0</td>\n",
       "      <td>0</td>\n",
       "      <td>0</td>\n",
       "      <td>0</td>\n",
       "      <td>0</td>\n",
       "      <td>0</td>\n",
       "    </tr>\n",
       "    <tr>\n",
       "      <th>92991</th>\n",
       "      <td>500</td>\n",
       "      <td>0</td>\n",
       "      <td>0</td>\n",
       "      <td>0</td>\n",
       "      <td>0</td>\n",
       "      <td>0</td>\n",
       "      <td>0</td>\n",
       "      <td>0</td>\n",
       "      <td>0</td>\n",
       "      <td>0</td>\n",
       "      <td>...</td>\n",
       "      <td>0</td>\n",
       "      <td>0</td>\n",
       "      <td>0</td>\n",
       "      <td>0</td>\n",
       "      <td>0</td>\n",
       "      <td>0</td>\n",
       "      <td>0</td>\n",
       "      <td>0</td>\n",
       "      <td>0</td>\n",
       "      <td>0</td>\n",
       "    </tr>\n",
       "  </tbody>\n",
       "</table>\n",
       "<p>5 rows × 1412 columns</p>\n",
       "</div>"
      ],
      "text/plain": [
       "       user_id  movie_id_1  movie_id_2  movie_id_3  movie_id_4  movie_id_5  \\\n",
       "75721      877           0           0           0           0           0   \n",
       "80184      815           0           0           0           0           0   \n",
       "19864       94           0           0           0           0           0   \n",
       "76699      416           0           0           0           0           0   \n",
       "92991      500           0           0           0           0           0   \n",
       "\n",
       "       movie_id_6  movie_id_7  movie_id_8  movie_id_9  ...  movie_id_1648  \\\n",
       "75721           0           0           0           0  ...              0   \n",
       "80184           0           0           0           0  ...              0   \n",
       "19864           0           0           0           0  ...              0   \n",
       "76699           0           0           0           0  ...              0   \n",
       "92991           0           0           0           0  ...              0   \n",
       "\n",
       "       movie_id_1649  movie_id_1655  movie_id_1656  movie_id_1658  \\\n",
       "75721              0              0              0              0   \n",
       "80184              0              0              0              0   \n",
       "19864              0              0              0              0   \n",
       "76699              0              0              0              0   \n",
       "92991              0              0              0              0   \n",
       "\n",
       "       movie_id_1669  movie_id_1674  movie_id_1675  movie_id_1677  \\\n",
       "75721              0              0              0              0   \n",
       "80184              0              0              0              0   \n",
       "19864              0              0              0              0   \n",
       "76699              0              0              0              0   \n",
       "92991              0              0              0              0   \n",
       "\n",
       "       movie_id_1682  \n",
       "75721              0  \n",
       "80184              0  \n",
       "19864              0  \n",
       "76699              0  \n",
       "92991              0  \n",
       "\n",
       "[5 rows x 1412 columns]"
      ]
     },
     "execution_count": 47,
     "metadata": {},
     "output_type": "execute_result"
    }
   ],
   "source": [
    "one_hot_X_test = one_hot_X_test.drop(['rating'], axis=1)\n",
    "one_hot_X_test.head()"
   ]
  },
  {
   "cell_type": "code",
   "execution_count": 48,
   "metadata": {},
   "outputs": [],
   "source": [
    "unique_user_id_train = one_hot_X_train.user_id.unique().tolist()\n",
    "unique_user_id_test = one_hot_X_test.user_id.unique().tolist()"
   ]
  },
  {
   "cell_type": "code",
   "execution_count": 56,
   "metadata": {},
   "outputs": [],
   "source": [
    "grouped_train = one_hot_X_train.groupby(\"user_id\")\n",
    "grouped_test = one_hot_X_test.groupby(\"user_id\")"
   ]
  },
  {
   "cell_type": "code",
   "execution_count": 57,
   "metadata": {},
   "outputs": [],
   "source": [
    "rating_model_df_train = pd.DataFrame(columns=one_hot_X_train.columns)\n",
    "rating_model_df_test = pd.DataFrame(columns=one_hot_X_test.columns)"
   ]
  },
  {
   "cell_type": "code",
   "execution_count": 58,
   "metadata": {},
   "outputs": [
    {
     "name": "stderr",
     "output_type": "stream",
     "text": [
      "100%|██████████| 943/943 [00:12<00:00, 73.92it/s]\n"
     ]
    }
   ],
   "source": [
    "for i in tqdm(unique_user_id_train):\n",
    "    temp = pd.DataFrame(grouped_train.get_group(i).drop(\"user_id\", axis=1).sum()).T\n",
    "    temp[\"user_id\"] = i\n",
    "    t_cols = temp.columns.tolist()\n",
    "    t_cols = t_cols[-1:] + t_cols[:-1]\n",
    "    temp = temp[t_cols]\n",
    "    rating_model_df_train = pd.concat([rating_model_df_train, temp], ignore_index=True)"
   ]
  },
  {
   "cell_type": "code",
   "execution_count": 59,
   "metadata": {},
   "outputs": [
    {
     "name": "stderr",
     "output_type": "stream",
     "text": [
      "100%|██████████| 940/940 [00:10<00:00, 91.23it/s] \n"
     ]
    }
   ],
   "source": [
    "for i in tqdm(unique_user_id_test):\n",
    "    temp = pd.DataFrame(grouped_test.get_group(i).drop(\"user_id\", axis=1).sum()).T\n",
    "    temp[\"user_id\"] = i\n",
    "    t_cols = temp.columns.tolist()\n",
    "    t_cols = t_cols[-1:] + t_cols[:-1]\n",
    "    temp = temp[t_cols]\n",
    "    rating_model_df_test = pd.concat([rating_model_df_test, temp], ignore_index=True)"
   ]
  },
  {
   "cell_type": "code",
   "execution_count": 60,
   "metadata": {},
   "outputs": [
    {
     "data": {
      "text/plain": [
       "(943, 1654)"
      ]
     },
     "execution_count": 60,
     "metadata": {},
     "output_type": "execute_result"
    }
   ],
   "source": [
    "rating_model_df_train.shape"
   ]
  },
  {
   "cell_type": "code",
   "execution_count": 61,
   "metadata": {},
   "outputs": [
    {
     "data": {
      "text/plain": [
       "(940, 1412)"
      ]
     },
     "execution_count": 61,
     "metadata": {},
     "output_type": "execute_result"
    }
   ],
   "source": [
    "rating_model_df_test.shape"
   ]
  },
  {
   "cell_type": "code",
   "execution_count": 62,
   "metadata": {},
   "outputs": [],
   "source": [
    "rating_model_df_train.to_csv(\"data/preprocess_data/n_preproc_100k_rating_data_train.csv\", index=False)"
   ]
  },
  {
   "cell_type": "code",
   "execution_count": 63,
   "metadata": {},
   "outputs": [],
   "source": [
    "rating_model_df_test.to_csv(\"data/preprocess_data/n_preproc_100k_rating_data_test.csv\", index=False)"
   ]
  },
  {
   "cell_type": "markdown",
   "metadata": {},
   "source": [
    "### Preprocssing 1m user data for rating model"
   ]
  },
  {
   "cell_type": "code",
   "execution_count": 77,
   "metadata": {},
   "outputs": [],
   "source": [
    "data_1m = pd.read_csv('data/user_data/ml_1m_user_data.csv')"
   ]
  },
  {
   "cell_type": "code",
   "execution_count": 78,
   "metadata": {},
   "outputs": [],
   "source": [
    "# converting the 1m user data to one hot encoding, so that we can multiply the seen movies (1's) with there corresponding rating\n",
    "\n",
    "one_hot = pd.get_dummies(data_1m.movie_id, prefix=\"movie_id\", dtype=np.uint8)"
   ]
  },
  {
   "cell_type": "code",
   "execution_count": 79,
   "metadata": {},
   "outputs": [],
   "source": [
    "one_hot[\"rating\"] = data_1m.rating.astype(np.uint8)"
   ]
  },
  {
   "cell_type": "code",
   "execution_count": 80,
   "metadata": {},
   "outputs": [],
   "source": [
    "user_ids = data_1m.user_id"
   ]
  },
  {
   "cell_type": "code",
   "execution_count": 81,
   "metadata": {},
   "outputs": [],
   "source": [
    "# clearing dataframe from memory for fastere execution of below block\n",
    "\n",
    "del data_1m"
   ]
  },
  {
   "cell_type": "code",
   "execution_count": 82,
   "metadata": {},
   "outputs": [
    {
     "name": "stderr",
     "output_type": "stream",
     "text": [
      "100%|██████████| 3706/3706 [01:07<00:00, 54.68it/s]\n"
     ]
    }
   ],
   "source": [
    "for col in tqdm(one_hot.columns.to_list()[:-1]):\n",
    "    one_hot[col] = np.multiply(one_hot.rating, one_hot[col])"
   ]
  },
  {
   "cell_type": "code",
   "execution_count": null,
   "metadata": {},
   "outputs": [],
   "source": [
    "one_hot = one_hot.drop(['rating'], axis=1)\n",
    "one_hot.head()"
   ]
  },
  {
   "cell_type": "code",
   "execution_count": null,
   "metadata": {},
   "outputs": [],
   "source": [
    "one_hot[\"user_id\"] = user_ids"
   ]
  },
  {
   "cell_type": "code",
   "execution_count": null,
   "metadata": {},
   "outputs": [],
   "source": [
    "del user_ids"
   ]
  },
  {
   "cell_type": "code",
   "execution_count": null,
   "metadata": {},
   "outputs": [],
   "source": [
    "grouped = one_hot.groupby(\"user_id\")"
   ]
  },
  {
   "cell_type": "code",
   "execution_count": null,
   "metadata": {},
   "outputs": [],
   "source": [
    "rating_model_data = pd.DataFrame(columns=one_hot.columns)\n",
    "#del one_hot"
   ]
  },
  {
   "cell_type": "code",
   "execution_count": null,
   "metadata": {},
   "outputs": [],
   "source": [
    "for i in tqdm(grouped.user_id.unique().tolist()):\n",
    "    temp = pd.DataFrame(grouped.get_group(i).drop(\"user_id\", axis=1).sum()).T\n",
    "    temp[\"user_id\"] = i\n",
    "    temp = temp[temp.columns.tolist()[-1:] + temp.columns.tolist()[:-1]]\n",
    "    rating_model_data = pd.concat([rating_model_data, temp], ignore_index=True)"
   ]
  },
  {
   "cell_type": "code",
   "execution_count": null,
   "metadata": {},
   "outputs": [],
   "source": [
    "rating_model_data.shape"
   ]
  },
  {
   "cell_type": "code",
   "execution_count": null,
   "metadata": {},
   "outputs": [],
   "source": [
    "rating_model_data = rating_model_data[rating_model_data.columns.to_list()[-1:] + rating_model_data.columns.to_list()[:-1]]\n",
    "rating_model_data = rating_model_data.drop(['rating'], axis=1)\n",
    "rating_model_data.head()"
   ]
  },
  {
   "cell_type": "code",
   "execution_count": 22,
   "metadata": {},
   "outputs": [],
   "source": [
    "# Do not uncomment unless you want to write the rating model data again to the csv\n",
    "\n",
    "#rating_model_data.to_csv(\"data/preprocess_data/preproc_1m_rating_data.csv\", index=False)"
   ]
  },
  {
   "cell_type": "code",
   "execution_count": null,
   "metadata": {},
   "outputs": [],
   "source": []
  },
  {
   "cell_type": "code",
   "execution_count": null,
   "metadata": {},
   "outputs": [],
   "source": []
  }
 ],
 "metadata": {
  "kernelspec": {
   "display_name": "Python 3",
   "language": "python",
   "name": "python3"
  },
  "language_info": {
   "codemirror_mode": {
    "name": "ipython",
    "version": 3
   },
   "file_extension": ".py",
   "mimetype": "text/x-python",
   "name": "python",
   "nbconvert_exporter": "python",
   "pygments_lexer": "ipython3",
   "version": "3.7.4"
  }
 },
 "nbformat": 4,
 "nbformat_minor": 4
}
