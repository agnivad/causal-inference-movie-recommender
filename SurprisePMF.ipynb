{
  "nbformat": 4,
  "nbformat_minor": 0,
  "metadata": {
    "colab": {
      "name": "PMF.ipynb",
      "provenance": [],
      "collapsed_sections": []
    },
    "kernelspec": {
      "name": "python3",
      "display_name": "Python 3"
    }
  },
  "cells": [
    {
      "cell_type": "markdown",
      "metadata": {
        "id": "2t0QSccjrBQy"
      },
      "source": [
        "\n",
        "**Installing scikit-surprise**\n",
        "\n",
        "Surprise is a Python scikit for building and analyzing recommender systems that deal with explicit rating data.\n",
        "\n"
      ]
    },
    {
      "cell_type": "code",
      "metadata": {
        "id": "q98DtevOql9L",
        "colab": {
          "base_uri": "https://localhost:8080/"
        },
        "outputId": "74572f1f-6567-4a74-ce2d-da131b09b620"
      },
      "source": [
        "!pip install scikit-surprise"
      ],
      "execution_count": 1,
      "outputs": [
        {
          "output_type": "stream",
          "text": [
            "Collecting scikit-surprise\n",
            "\u001b[?25l  Downloading https://files.pythonhosted.org/packages/97/37/5d334adaf5ddd65da99fc65f6507e0e4599d092ba048f4302fe8775619e8/scikit-surprise-1.1.1.tar.gz (11.8MB)\n",
            "\u001b[K     |████████████████████████████████| 11.8MB 4.0MB/s \n",
            "\u001b[?25hRequirement already satisfied: joblib>=0.11 in /usr/local/lib/python3.6/dist-packages (from scikit-surprise) (0.17.0)\n",
            "Requirement already satisfied: numpy>=1.11.2 in /usr/local/lib/python3.6/dist-packages (from scikit-surprise) (1.18.5)\n",
            "Requirement already satisfied: scipy>=1.0.0 in /usr/local/lib/python3.6/dist-packages (from scikit-surprise) (1.4.1)\n",
            "Requirement already satisfied: six>=1.10.0 in /usr/local/lib/python3.6/dist-packages (from scikit-surprise) (1.15.0)\n",
            "Building wheels for collected packages: scikit-surprise\n",
            "  Building wheel for scikit-surprise (setup.py) ... \u001b[?25l\u001b[?25hdone\n",
            "  Created wheel for scikit-surprise: filename=scikit_surprise-1.1.1-cp36-cp36m-linux_x86_64.whl size=1670926 sha256=c34bf1907993373e47f16a706afea667ac16db6b30d56bdd1c3927ce283d9999\n",
            "  Stored in directory: /root/.cache/pip/wheels/78/9c/3d/41b419c9d2aff5b6e2b4c0fc8d25c538202834058f9ed110d0\n",
            "Successfully built scikit-surprise\n",
            "Installing collected packages: scikit-surprise\n",
            "Successfully installed scikit-surprise-1.1.1\n"
          ],
          "name": "stdout"
        }
      ]
    },
    {
      "cell_type": "code",
      "metadata": {
        "id": "YcbB65Zdq4Fu"
      },
      "source": [
        "from surprise import SVD\n",
        "from surprise import Dataset, Reader\n",
        "from surprise import accuracy\n",
        "from surprise.model_selection.split import train_test_split\n",
        "import pandas as pd \n",
        "import random  "
      ],
      "execution_count": 2,
      "outputs": []
    },
    {
      "cell_type": "markdown",
      "metadata": {
        "id": "i4QbJAWNr2gm"
      },
      "source": [
        "Reading 100k into dataframe from csv  "
      ]
    },
    {
      "cell_type": "code",
      "metadata": {
        "id": "PzcWwwmDr2wQ"
      },
      "source": [
        "df_100k = pd.read_csv(\"/content/u_data.csv\")\n",
        "df_100k.drop('timestamp',axis=1,inplace=True)"
      ],
      "execution_count": 3,
      "outputs": []
    },
    {
      "cell_type": "markdown",
      "metadata": {
        "id": "ilHqiGw-tIZE"
      },
      "source": [
        "Creating Train and Test datasets(80/20 split) for 100k data\n"
      ]
    },
    {
      "cell_type": "code",
      "metadata": {
        "id": "1Vt2Uph-tIm5"
      },
      "source": [
        "reader = Reader(rating_scale=(1,5))\n",
        "data_100k = Dataset.load_from_df(df_100k,reader)\n",
        "trainset_100k,testset_100k = train_test_split(data_100k, test_size=0.2, train_size=None, random_state=None, shuffle=True)"
      ],
      "execution_count": 4,
      "outputs": []
    },
    {
      "cell_type": "markdown",
      "metadata": {
        "id": "t5XRq41JvpDk"
      },
      "source": [
        "Defining Average Per item MSE function"
      ]
    },
    {
      "cell_type": "code",
      "metadata": {
        "id": "NWfjIhqHvptW"
      },
      "source": [
        "def avg_per_item_mse(predictions):\n",
        "  pdf = pd.DataFrame(predictions)\n",
        "  pdf['Squarederror'] = (pdf['r_ui']-pdf['est'])**2\n",
        "  pdf.drop(['uid','details','r_ui','est'],axis=1,inplace=True)\n",
        "  item_mse=pdf.groupby(['iid']).mean()\n",
        "  return item_mse['Squarederror'].mean() "
      ],
      "execution_count": 5,
      "outputs": []
    },
    {
      "cell_type": "markdown",
      "metadata": {
        "id": "utO-lOhIwXLf"
      },
      "source": [
        "For Probabilistic Matrix Factorization, Using SVD algorithm without bias factors\n",
        "\n",
        "[Matrix factorization algorithm SVD](https://surprise.readthedocs.io/en/stable/matrix_factorization.html)"
      ]
    },
    {
      "cell_type": "code",
      "metadata": {
        "id": "0kvA4jqswXcK"
      },
      "source": [
        "algo = SVD(biased = False)"
      ],
      "execution_count": 6,
      "outputs": []
    },
    {
      "cell_type": "markdown",
      "metadata": {
        "id": "T-iCaK0KyWkt"
      },
      "source": [
        "Training and testing svd algorithm with 100k data  "
      ]
    },
    {
      "cell_type": "code",
      "metadata": {
        "id": "XLU4wBPUyXDZ",
        "colab": {
          "base_uri": "https://localhost:8080/"
        },
        "outputId": "7879bccb-fcb0-40dd-91b3-1f01712c1909"
      },
      "source": [
        "algo.fit(trainset_100k)\n",
        "predictions_100k = algo.test(testset_100k)\n",
        "MSE_100k = avg_per_item_mse(predictions_100k)\n",
        "print(\"Average per item MSE of 100k data:\",MSE_100k) "
      ],
      "execution_count": 7,
      "outputs": [
        {
          "output_type": "stream",
          "text": [
            "Average per item MSE of 100k data: 1.2445468210272599\n"
          ],
          "name": "stdout"
        }
      ]
    }
  ]
}