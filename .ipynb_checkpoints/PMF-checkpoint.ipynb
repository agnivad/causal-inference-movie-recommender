{
 "cells": [
  {
   "cell_type": "markdown",
   "metadata": {
    "id": "2t0QSccjrBQy"
   },
   "source": [
    "\n",
    "**Installing scikit-surprise**\n",
    "\n",
    "Surprise is a Python scikit for building and analyzing recommender systems that deal with explicit rating data.\n",
    "\n"
   ]
  },
  {
   "cell_type": "code",
   "execution_count": null,
   "metadata": {
    "colab": {
     "base_uri": "https://localhost:8080/"
    },
    "id": "q98DtevOql9L",
    "outputId": "da24dacc-6976-41cd-b9b4-7e5f696b9db2"
   },
   "outputs": [
    {
     "name": "stdout",
     "output_type": "stream",
     "text": [
      "Collecting scikit-surprise\n",
      "\u001b[?25l  Downloading https://files.pythonhosted.org/packages/97/37/5d334adaf5ddd65da99fc65f6507e0e4599d092ba048f4302fe8775619e8/scikit-surprise-1.1.1.tar.gz (11.8MB)\n",
      "\u001b[K     |████████████████████████████████| 11.8MB 4.9MB/s \n",
      "\u001b[?25hRequirement already satisfied: joblib>=0.11 in /usr/local/lib/python3.6/dist-packages (from scikit-surprise) (0.17.0)\n",
      "Requirement already satisfied: numpy>=1.11.2 in /usr/local/lib/python3.6/dist-packages (from scikit-surprise) (1.18.5)\n",
      "Requirement already satisfied: scipy>=1.0.0 in /usr/local/lib/python3.6/dist-packages (from scikit-surprise) (1.4.1)\n",
      "Requirement already satisfied: six>=1.10.0 in /usr/local/lib/python3.6/dist-packages (from scikit-surprise) (1.15.0)\n",
      "Building wheels for collected packages: scikit-surprise\n",
      "  Building wheel for scikit-surprise (setup.py) ... \u001b[?25l\u001b[?25hdone\n",
      "  Created wheel for scikit-surprise: filename=scikit_surprise-1.1.1-cp36-cp36m-linux_x86_64.whl size=1670890 sha256=3c4e3ec1212128a5c4f53b10dec61596fbde7ea0c13577c8e89bbefadbf5ea16\n",
      "  Stored in directory: /root/.cache/pip/wheels/78/9c/3d/41b419c9d2aff5b6e2b4c0fc8d25c538202834058f9ed110d0\n",
      "Successfully built scikit-surprise\n",
      "Installing collected packages: scikit-surprise\n",
      "Successfully installed scikit-surprise-1.1.1\n"
     ]
    }
   ],
   "source": [
    "!pip install scikit-surprise"
   ]
  },
  {
   "cell_type": "code",
   "execution_count": null,
   "metadata": {
    "id": "YcbB65Zdq4Fu"
   },
   "outputs": [],
   "source": [
    "from surprise import SVD\n",
    "from surprise import Dataset, Reader\n",
    "from surprise import accuracy\n",
    "from surprise.model_selection.split import train_test_split\n",
    "import pandas as pd \n",
    "import random  "
   ]
  },
  {
   "cell_type": "markdown",
   "metadata": {
    "id": "i4QbJAWNr2gm"
   },
   "source": [
    "Reading 100k and 1M data into dataframe from csv  "
   ]
  },
  {
   "cell_type": "code",
   "execution_count": null,
   "metadata": {
    "id": "PzcWwwmDr2wQ"
   },
   "outputs": [],
   "source": [
    "df_100k = pd.read_csv(\"/content/u_data.csv\")\n",
    "df_100k.drop('timestamp',axis=1,inplace=True)\n",
    "df_1M = pd.read_csv(\"/content/1m_user_data.csv\")"
   ]
  },
  {
   "cell_type": "markdown",
   "metadata": {
    "id": "ilHqiGw-tIZE"
   },
   "source": [
    "Creating Train and Test datasets(70/30 split) for 100k and 1M data\n"
   ]
  },
  {
   "cell_type": "code",
   "execution_count": null,
   "metadata": {
    "id": "1Vt2Uph-tIm5"
   },
   "outputs": [],
   "source": [
    "reader = Reader(rating_scale=(1,5))\n",
    "data_100k = Dataset.load_from_df(df_100k,reader)\n",
    "data_1M = Dataset.load_from_df(df_1M,reader)\n",
    "trainset_100k,testset_100k = train_test_split(data_100k, test_size=0.3, train_size=None, random_state=None, shuffle=True)\n",
    "trainset_1M,testset_1M = train_test_split(data_1M, test_size=0.3, train_size=None, random_state=None, shuffle=True)"
   ]
  },
  {
   "cell_type": "markdown",
   "metadata": {
    "id": "t5XRq41JvpDk"
   },
   "source": [
    "Defining Average Per item MSE function"
   ]
  },
  {
   "cell_type": "code",
   "execution_count": null,
   "metadata": {
    "id": "NWfjIhqHvptW"
   },
   "outputs": [],
   "source": [
    "def avg_per_item_mse(predictions):\n",
    "  pdf = pd.DataFrame(predictions)\n",
    "  pdf['Squarederror'] = (pdf['r_ui']-pdf['est'])**2\n",
    "  pdf.drop(['uid','details','r_ui','est'],axis=1,inplace=True)\n",
    "  item_mse=pdf.groupby(['iid']).mean()\n",
    "  return item_mse['Squarederror'].mean() "
   ]
  },
  {
   "cell_type": "markdown",
   "metadata": {
    "id": "utO-lOhIwXLf"
   },
   "source": [
    "For Probabilistic Matrix Factorization, Using SVD algorithm without bias factors\n",
    "\n",
    "[Matrix factorization algorithm SVD](https://surprise.readthedocs.io/en/stable/matrix_factorization.html)"
   ]
  },
  {
   "cell_type": "code",
   "execution_count": null,
   "metadata": {
    "id": "0kvA4jqswXcK"
   },
   "outputs": [],
   "source": [
    "algo = SVD(biased = False)"
   ]
  },
  {
   "cell_type": "markdown",
   "metadata": {
    "id": "T-iCaK0KyWkt"
   },
   "source": [
    "Training and testing svd algorithm with 100k data  "
   ]
  },
  {
   "cell_type": "code",
   "execution_count": null,
   "metadata": {
    "colab": {
     "base_uri": "https://localhost:8080/"
    },
    "id": "XLU4wBPUyXDZ",
    "outputId": "45dd7ec3-f9cf-4b87-eea5-46a5803462f6"
   },
   "outputs": [
    {
     "name": "stdout",
     "output_type": "stream",
     "text": [
      "Average per item MSE of 100k data: 1.324084273578656\n"
     ]
    }
   ],
   "source": [
    "algo.fit(trainset_100k)\n",
    "predictions_100k = algo.test(testset_100k)\n",
    "MSE_100k = avg_per_item_mse(predictions_100k)\n",
    "print(\"Average per item MSE of 100k data:\",MSE_100k) "
   ]
  },
  {
   "cell_type": "markdown",
   "metadata": {
    "id": "9a_UHN-Q0B3A"
   },
   "source": [
    "Training and testing svd algorithm with 1M data  "
   ]
  },
  {
   "cell_type": "code",
   "execution_count": null,
   "metadata": {
    "colab": {
     "base_uri": "https://localhost:8080/"
    },
    "id": "lX2wb7EL0CI7",
    "outputId": "23fc5893-63b7-4240-c1a5-695a6f46a1bb"
   },
   "outputs": [
    {
     "name": "stdout",
     "output_type": "stream",
     "text": [
      "Average per item MSE of 1M data: 1.0734020349047144\n"
     ]
    }
   ],
   "source": [
    "algo.fit(trainset_1M)\n",
    "predictions_1M = algo.test(testset_1M)\n",
    "MSE_1M = avg_per_item_mse(predictions_1M)\n",
    "print(\"Average per item MSE of 1M data:\",MSE_1M) "
   ]
  }
 ],
 "metadata": {
  "colab": {
   "collapsed_sections": [],
   "name": "PMF.ipynb",
   "provenance": []
  },
  "kernelspec": {
   "display_name": "Python 3",
   "language": "python",
   "name": "python3"
  },
  "language_info": {
   "codemirror_mode": {
    "name": "ipython",
    "version": 3
   },
   "file_extension": ".py",
   "mimetype": "text/x-python",
   "name": "python",
   "nbconvert_exporter": "python",
   "pygments_lexer": "ipython3",
   "version": "3.7.4"
  }
 },
 "nbformat": 4,
 "nbformat_minor": 1
}
